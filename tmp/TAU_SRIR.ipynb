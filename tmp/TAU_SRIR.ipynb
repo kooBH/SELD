{
 "cells": [
  {
   "cell_type": "markdown",
   "id": "3691fd15-766f-4165-9234-1fbb2b01bc2b",
   "metadata": {},
   "source": [
    "# TAU Spatial Room Impulse Response Database (TAU-SRIR DB)"
   ]
  },
  {
   "cell_type": "code",
   "execution_count": 89,
   "id": "731355de-8dff-432e-a3c6-e476766b7c51",
   "metadata": {},
   "outputs": [
    {
     "name": "stdout",
     "output_type": "stream",
     "text": [
      "ERROR! Session/line number was not unique in database. History logging moved to new session 159\n"
     ]
    }
   ],
   "source": [
    "import torch\n",
    "import numpy as np\n",
    "from scipy import io\n",
    "import h5py\n"
   ]
  },
  {
   "cell_type": "code",
   "execution_count": 7,
   "id": "d75e564a-949e-4dd4-8e29-a026cf32b8b4",
   "metadata": {},
   "outputs": [],
   "source": [
    "path = \"/home/nas3/DB/DCASE2022/TAU-SRIR_DB/rirs_09_tb103.mat\""
   ]
  },
  {
   "cell_type": "code",
   "execution_count": null,
   "id": "8d351bb9-f3fe-4885-a9c1-ad9b00b5060c",
   "metadata": {},
   "outputs": [
    {
     "ename": "NotImplementedError",
     "evalue": "Please use HDF reader for matlab v7.3 files",
     "output_type": "error",
     "traceback": [
      "\u001b[0;31m---------------------------------------------------------------------------\u001b[0m",
      "\u001b[0;31mNotImplementedError\u001b[0m                       Traceback (most recent call last)",
      "\u001b[0;32m/tmp/ipykernel_416031/628993393.py\u001b[0m in \u001b[0;36m<module>\u001b[0;34m\u001b[0m\n\u001b[0;32m----> 1\u001b[0;31m \u001b[0mrir\u001b[0m \u001b[0;34m=\u001b[0m \u001b[0mio\u001b[0m\u001b[0;34m.\u001b[0m\u001b[0mloadmat\u001b[0m\u001b[0;34m(\u001b[0m\u001b[0mpath\u001b[0m\u001b[0;34m)\u001b[0m\u001b[0;34m\u001b[0m\u001b[0;34m\u001b[0m\u001b[0m\n\u001b[0m",
      "\u001b[0;32m~/anaconda3/envs/dnn/lib/python3.9/site-packages/scipy/io/matlab/mio.py\u001b[0m in \u001b[0;36mloadmat\u001b[0;34m(file_name, mdict, appendmat, **kwargs)\u001b[0m\n\u001b[1;32m    223\u001b[0m     \u001b[0mvariable_names\u001b[0m \u001b[0;34m=\u001b[0m \u001b[0mkwargs\u001b[0m\u001b[0;34m.\u001b[0m\u001b[0mpop\u001b[0m\u001b[0;34m(\u001b[0m\u001b[0;34m'variable_names'\u001b[0m\u001b[0;34m,\u001b[0m \u001b[0;32mNone\u001b[0m\u001b[0;34m)\u001b[0m\u001b[0;34m\u001b[0m\u001b[0;34m\u001b[0m\u001b[0m\n\u001b[1;32m    224\u001b[0m     \u001b[0;32mwith\u001b[0m \u001b[0m_open_file_context\u001b[0m\u001b[0;34m(\u001b[0m\u001b[0mfile_name\u001b[0m\u001b[0;34m,\u001b[0m \u001b[0mappendmat\u001b[0m\u001b[0;34m)\u001b[0m \u001b[0;32mas\u001b[0m \u001b[0mf\u001b[0m\u001b[0;34m:\u001b[0m\u001b[0;34m\u001b[0m\u001b[0;34m\u001b[0m\u001b[0m\n\u001b[0;32m--> 225\u001b[0;31m         \u001b[0mMR\u001b[0m\u001b[0;34m,\u001b[0m \u001b[0m_\u001b[0m \u001b[0;34m=\u001b[0m \u001b[0mmat_reader_factory\u001b[0m\u001b[0;34m(\u001b[0m\u001b[0mf\u001b[0m\u001b[0;34m,\u001b[0m \u001b[0;34m**\u001b[0m\u001b[0mkwargs\u001b[0m\u001b[0;34m)\u001b[0m\u001b[0;34m\u001b[0m\u001b[0;34m\u001b[0m\u001b[0m\n\u001b[0m\u001b[1;32m    226\u001b[0m         \u001b[0mmatfile_dict\u001b[0m \u001b[0;34m=\u001b[0m \u001b[0mMR\u001b[0m\u001b[0;34m.\u001b[0m\u001b[0mget_variables\u001b[0m\u001b[0;34m(\u001b[0m\u001b[0mvariable_names\u001b[0m\u001b[0;34m)\u001b[0m\u001b[0;34m\u001b[0m\u001b[0;34m\u001b[0m\u001b[0m\n\u001b[1;32m    227\u001b[0m \u001b[0;34m\u001b[0m\u001b[0m\n",
      "\u001b[0;32m~/anaconda3/envs/dnn/lib/python3.9/site-packages/scipy/io/matlab/mio.py\u001b[0m in \u001b[0;36mmat_reader_factory\u001b[0;34m(file_name, appendmat, **kwargs)\u001b[0m\n\u001b[1;32m     78\u001b[0m         \u001b[0;32mreturn\u001b[0m \u001b[0mMatFile5Reader\u001b[0m\u001b[0;34m(\u001b[0m\u001b[0mbyte_stream\u001b[0m\u001b[0;34m,\u001b[0m \u001b[0;34m**\u001b[0m\u001b[0mkwargs\u001b[0m\u001b[0;34m)\u001b[0m\u001b[0;34m,\u001b[0m \u001b[0mfile_opened\u001b[0m\u001b[0;34m\u001b[0m\u001b[0;34m\u001b[0m\u001b[0m\n\u001b[1;32m     79\u001b[0m     \u001b[0;32melif\u001b[0m \u001b[0mmjv\u001b[0m \u001b[0;34m==\u001b[0m \u001b[0;36m2\u001b[0m\u001b[0;34m:\u001b[0m\u001b[0;34m\u001b[0m\u001b[0;34m\u001b[0m\u001b[0m\n\u001b[0;32m---> 80\u001b[0;31m         \u001b[0;32mraise\u001b[0m \u001b[0mNotImplementedError\u001b[0m\u001b[0;34m(\u001b[0m\u001b[0;34m'Please use HDF reader for matlab v7.3 files'\u001b[0m\u001b[0;34m)\u001b[0m\u001b[0;34m\u001b[0m\u001b[0;34m\u001b[0m\u001b[0m\n\u001b[0m\u001b[1;32m     81\u001b[0m     \u001b[0;32melse\u001b[0m\u001b[0;34m:\u001b[0m\u001b[0;34m\u001b[0m\u001b[0;34m\u001b[0m\u001b[0m\n\u001b[1;32m     82\u001b[0m         \u001b[0;32mraise\u001b[0m \u001b[0mTypeError\u001b[0m\u001b[0;34m(\u001b[0m\u001b[0;34m'Did not recognize version %s'\u001b[0m \u001b[0;34m%\u001b[0m \u001b[0mmjv\u001b[0m\u001b[0;34m)\u001b[0m\u001b[0;34m\u001b[0m\u001b[0;34m\u001b[0m\u001b[0m\n",
      "\u001b[0;31mNotImplementedError\u001b[0m: Please use HDF reader for matlab v7.3 files"
     ]
    }
   ],
   "source": [
    "rir = io.loadmat(path)"
   ]
  },
  {
   "cell_type": "code",
   "execution_count": 10,
   "id": "19e1009f-4105-4dd5-96fe-07320103fe4a",
   "metadata": {},
   "outputs": [
    {
     "name": "stdout",
     "output_type": "stream",
     "text": [
      "<KeysViewHDF5 ['#refs#', 'rirs']>\n"
     ]
    }
   ],
   "source": [
    "f =  h5py.File(path, 'r') \n",
    "print(f.keys())"
   ]
  },
  {
   "cell_type": "code",
   "execution_count": 30,
   "id": "9cd205f5-0c5e-4624-9966-b98b17e8473f",
   "metadata": {},
   "outputs": [
    {
     "name": "stdout",
     "output_type": "stream",
     "text": [
      "<KeysViewHDF5 ['#refs#', 'rirs']>\n",
      "<HDF5 group \"/rirs\" (2 members)>\n",
      "(3, 4)\n",
      "<HDF5 object reference>\n",
      "<HDF5 dataset \"n\": shape (84, 4, 7200), type \"<f8\">\n",
      "(84, 4, 7200)\n",
      "(84, 4, 7200)\n"
     ]
    }
   ],
   "source": [
    "print(f.keys())\n",
    "print(f['rirs'])\n",
    "print(f['rirs']['foa'].shape)\n",
    "print(f['rirs']['foa'][0,0])\n",
    "print(f[f['rirs']['foa'][0,0]])\n",
    "print(np.array(f[f['rirs']['foa'][0,0]]).shape)\n",
    "print(np.array(f[f['rirs']['foa'][0,0]]).shape)"
   ]
  },
  {
   "cell_type": "code",
   "execution_count": 40,
   "id": "6eadbebc-00f0-45bb-8b69-bf5cae797d17",
   "metadata": {},
   "outputs": [
    {
     "name": "stdout",
     "output_type": "stream",
     "text": [
      "0 | 0 0\n",
      "1 | 0 1\n",
      "2 | 0 2\n",
      "3 | 0 3\n",
      "4 | 1 0\n",
      "5 | 1 1\n",
      "6 | 1 2\n",
      "7 | 1 3\n",
      "8 | 2 0\n",
      "9 | 2 1\n",
      "10 | 2 2\n",
      "11 | 2 3\n"
     ]
    }
   ],
   "source": [
    "t = f['rirs']['foa'].shape\n",
    "for idx in range(t[0]*t[1]) : \n",
    "    i = int(idx/t[1])\n",
    "    j = int(idx%t[1])\n",
    "    print(\"{} | {} {}\".format(idx,i,j))"
   ]
  },
  {
   "cell_type": "markdown",
   "id": "33be1bd4-156d-4816-900c-422073ee46c8",
   "metadata": {},
   "source": [
    "# DOA extract"
   ]
  },
  {
   "cell_type": "code",
   "execution_count": 90,
   "id": "b490ded9-733a-4817-ae27-5078e6f4d4ae",
   "metadata": {},
   "outputs": [],
   "source": [
    "path = \"/home/nas3/DB/DCASE2022/TAU-SRIR_DB/rirdata.mat\"\n",
    "ririnfo = io.loadmat(path)"
   ]
  },
  {
   "cell_type": "code",
   "execution_count": 91,
   "id": "5e7419ee-625a-4f0b-b64f-29806769414d",
   "metadata": {},
   "outputs": [
    {
     "name": "stdout",
     "output_type": "stream",
     "text": [
      "[('fs', 'O'), ('room', 'O'), ('tetra_mic_radius_m', 'O'), ('tetra_mic_azel_deg', 'O'), ('foa_norm', 'O'), ('foa_channel_order', 'O')]\n"
     ]
    }
   ],
   "source": [
    "print(ririnfo[\"rirdata\"][0,0].dtype)"
   ]
  },
  {
   "cell_type": "code",
   "execution_count": 92,
   "id": "b9d7d262-5ae4-45e9-89fa-ef9068fd149b",
   "metadata": {},
   "outputs": [
    {
     "name": "stdout",
     "output_type": "stream",
     "text": [
      "[('name', 'O'), ('year', 'O'), ('rirs', 'O'), ('nRirs', 'O')]\n"
     ]
    }
   ],
   "source": [
    "print(ririnfo[\"rirdata\"][0,0][\"room\"].dtype)"
   ]
  },
  {
   "cell_type": "code",
   "execution_count": 93,
   "id": "eb27d3ac-5a83-4873-b501-680876b24558",
   "metadata": {},
   "outputs": [
    {
     "name": "stdout",
     "output_type": "stream",
     "text": [
      "(9, 1)\n"
     ]
    }
   ],
   "source": [
    "print(ririnfo[\"rirdata\"][0,0][\"room\"]['name'].shape)"
   ]
  },
  {
   "cell_type": "code",
   "execution_count": 94,
   "id": "9c06720e-4eb9-486b-81cb-199dbc6ae96f",
   "metadata": {},
   "outputs": [
    {
     "name": "stdout",
     "output_type": "stream",
     "text": [
      "[[array(['bomb_shelter'], dtype='<U12')]\n",
      " [array(['gym'], dtype='<U3')]\n",
      " [array(['pb132'], dtype='<U5')]\n",
      " [array(['pc226'], dtype='<U5')]\n",
      " [array(['sa203'], dtype='<U5')]\n",
      " [array(['sc203'], dtype='<U5')]\n",
      " [array(['se203'], dtype='<U5')]\n",
      " [array(['tb103'], dtype='<U5')]\n",
      " [array(['tc352'], dtype='<U5')]]\n"
     ]
    }
   ],
   "source": [
    "print(ririnfo[\"rirdata\"][0,0][\"room\"]['name'])"
   ]
  },
  {
   "cell_type": "code",
   "execution_count": 108,
   "id": "8f16fc3b-fa28-4ed4-9903-f05b67f71a68",
   "metadata": {},
   "outputs": [
    {
     "name": "stdout",
     "output_type": "stream",
     "text": [
      "gym\n"
     ]
    }
   ],
   "source": [
    "print(ririnfo[\"rirdata\"][0,0][\"room\"]['name'][1][0][0])"
   ]
  },
  {
   "cell_type": "code",
   "execution_count": 95,
   "id": "081fb227-6247-4b92-99a1-3abcb855d086",
   "metadata": {},
   "outputs": [
    {
     "name": "stdout",
     "output_type": "stream",
     "text": [
      "9\n"
     ]
    }
   ],
   "source": [
    "print(len(ririnfo[\"rirdata\"][0,0][\"room\"]['name']))"
   ]
  },
  {
   "cell_type": "code",
   "execution_count": 96,
   "id": "671e18a7-09e8-43e1-bbdd-1d82ee409405",
   "metadata": {},
   "outputs": [
    {
     "name": "stdout",
     "output_type": "stream",
     "text": [
      "(9, 1)\n"
     ]
    }
   ],
   "source": [
    "print(ririnfo[\"rirdata\"][0,0][\"room\"]['rirs'].shape)"
   ]
  },
  {
   "cell_type": "code",
   "execution_count": 97,
   "id": "d155b7f0-f691-492e-a9c1-9f751d794e2d",
   "metadata": {},
   "outputs": [
    {
     "name": "stdout",
     "output_type": "stream",
     "text": [
      "(4, 3)\n"
     ]
    }
   ],
   "source": [
    "print(ririnfo[\"rirdata\"][0,0][\"room\"]['rirs'][7][0].shape)"
   ]
  },
  {
   "cell_type": "code",
   "execution_count": 101,
   "id": "d26a6cd1-6a27-4987-a704-78fb660f8ba4",
   "metadata": {},
   "outputs": [
    {
     "name": "stdout",
     "output_type": "stream",
     "text": [
      "(78, 3)\n"
     ]
    }
   ],
   "source": [
    "print(ririnfo[\"rirdata\"][0,0][\"room\"]['rirs'][7][0][3,2]['doa_xyz'].shape)"
   ]
  },
  {
   "cell_type": "code",
   "execution_count": 102,
   "id": "7a5fad0b-b995-45c8-85f3-305b35ee911b",
   "metadata": {},
   "outputs": [
    {
     "data": {
      "text/plain": [
       "numpy.ndarray"
      ]
     },
     "execution_count": 102,
     "metadata": {},
     "output_type": "execute_result"
    }
   ],
   "source": [
    "type(ririnfo[\"rirdata\"][0,0][\"room\"]['rirs'][7][0][3,2]['doa_xyz'])"
   ]
  },
  {
   "cell_type": "code",
   "execution_count": 6,
   "id": "f013c30a-9893-4259-8a00-54f971a10e0c",
   "metadata": {},
   "outputs": [
    {
     "data": {
      "text/plain": [
       "'03'"
      ]
     },
     "execution_count": 6,
     "metadata": {},
     "output_type": "execute_result"
    }
   ],
   "source": [
    "\"{:02d}\".format(3)"
   ]
  },
  {
   "cell_type": "code",
   "execution_count": null,
   "id": "9e1b99ae-4acf-461d-916b-3d8f23b679c3",
   "metadata": {},
   "outputs": [],
   "source": []
  }
 ],
 "metadata": {
  "kernelspec": {
   "display_name": "Python 3 (ipykernel)",
   "language": "python",
   "name": "python3"
  },
  "language_info": {
   "codemirror_mode": {
    "name": "ipython",
    "version": 3
   },
   "file_extension": ".py",
   "mimetype": "text/x-python",
   "name": "python",
   "nbconvert_exporter": "python",
   "pygments_lexer": "ipython3",
   "version": "3.9.0"
  }
 },
 "nbformat": 4,
 "nbformat_minor": 5
}
