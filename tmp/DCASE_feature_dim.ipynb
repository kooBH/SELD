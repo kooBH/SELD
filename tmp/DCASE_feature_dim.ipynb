{
 "cells": [
  {
   "cell_type": "markdown",
   "id": "bdd7487e-874a-4c71-bcd9-35b8ebd7583e",
   "metadata": {},
   "source": [
    "# Original Routine\n",
    "\n",
    "```python\n",
    "\n",
    "cutoff_bin = np.int(np.floor(params['fmax_spectra_salsalite'] * self._nfft / np.float(self._fs)))\n",
    "assert self._upper_bin <= self._cutoff_bin, 'Upper bin for doa featurei {} is higher than cutoff bin for spectrogram {}!'.format()\n",
    "self._nb_mel_bins = self._cutoff_bin-self._lower_bin \n",
    "\n",
    "self._mel_wts = librosa.filters.mel(sr=self._fs, n_fft=self._nfft, n_mels=self._nb_mel_bins).T\n",
    "\n",
    "\n",
    "def spectrogram(audio_input, _nb_frames):\n",
    "    _nb_ch = audio_input.shape[1]\n",
    "    nb_bins = self._nfft // 2\n",
    "    spectra = []\n",
    "    for ch_cnt in range(_nb_ch):\n",
    "        stft_ch = librosa.core.stft(np.asfortranarray(audio_input[:, ch_cnt]), n_fft=self._nfft, hop_length=self._hop_len,\n",
    "                                    win_length=self._win_len, window='hann')\n",
    "        spectra.append(stft_ch[:, :_nb_frames])\n",
    "    return np.array(spectra).T\n",
    "\n",
    "def _get_mel_spectrogram(self, linear_spectra):\n",
    "    mel_feat = np.zeros((linear_spectra.shape[0], self._nb_mel_bins, linear_spectra.shape[-1]))\n",
    "    for ch_cnt in range(linear_spectra.shape[-1]):\n",
    "        mag_spectra = np.abs(linear_spectra[:, :, ch_cnt])**2\n",
    "        mel_spectra = np.dot(mag_spectra, self._mel_wts)\n",
    "        log_mel_spectra = librosa.power_to_db(mel_spectra)\n",
    "        mel_feat[:, :, ch_cnt] = log_mel_spectra\n",
    "    mel_feat = mel_feat.transpose((0, 2, 1)).reshape((linear_spectra.shape[0], -1))\n",
    "    return mel_feat\n",
    "\n",
    "def _get_foa_intensity_vectors(self, linear_spectra,eps=1e-8):\n",
    "\n",
    "    W = linear_spectra[:, :, 0]\n",
    "    I = np.real(np.conj(W)[:, :, np.newaxis] * linear_spectra[:, :, 1:])\n",
    "    E = eps + (np.abs(W)**2 + ((np.abs(linear_spectra[:, :, 1:])**2).sum(-1))/3.0 )\n",
    "    \n",
    "    I_norm = I/E[:, :, np.newaxis]\n",
    "    I_norm_mel = np.transpose(np.dot(np.transpose(I_norm, (0,2,1)), self._mel_wts), (0,2,1))\n",
    "    foa_iv = I_norm_mel.transpose((0, 2, 1)).reshape((linear_spectra.shape[0], self._nb_mel_bins * 3))\n",
    "    if np.isnan(foa_iv).any():\n",
    "        print('Feature extraction is generating nan outputs')\n",
    "        exit()\n",
    "    return foa_iv\n",
    "\n",
    "```"
   ]
  },
  {
   "cell_type": "code",
   "execution_count": 1,
   "id": "4b7c443a-34c9-4b85-9ee8-855dddb848b7",
   "metadata": {},
   "outputs": [],
   "source": [
    "import librosa\n",
    "import numpy as np"
   ]
  },
  {
   "cell_type": "code",
   "execution_count": 10,
   "id": "cb3e5e27-61c9-4669-a404-c778ce6605e5",
   "metadata": {},
   "outputs": [],
   "source": [
    "mels_wts = librosa.filters.mel(sr=16000, n_fft=512, n_mels=40).T\n",
    "\n",
    "def get_spectrogram(audio_input):\n",
    "    _nb_ch = audio_input.shape[1]\n",
    "    nb_bins = 512 // 2\n",
    "    spectra = []\n",
    "    for ch_cnt in range(_nb_ch):\n",
    "        stft_ch = librosa.core.stft(np.asfortranarray(audio_input[:, ch_cnt]), n_fft=512)\n",
    "        spectra.append(stft_ch)\n",
    "    return np.array(spectra).T\n",
    "\n",
    "def get_mel_spectrogram(linear_spectra):\n",
    "    mel_feat = np.zeros((linear_spectra.shape[0], 40, linear_spectra.shape[-1]))\n",
    "    for ch_cnt in range(linear_spectra.shape[-1]):\n",
    "        mag_spectra = np.abs(linear_spectra[:, :, ch_cnt])**2\n",
    "        mel_spectra = np.dot(mag_spectra, mels_wts)\n",
    "        log_mel_spectra = librosa.power_to_db(mel_spectra)\n",
    "        mel_feat[:, :, ch_cnt] = log_mel_spectra\n",
    "    mel_feat = mel_feat.transpose((0, 2, 1)).reshape((linear_spectra.shape[0], -1))\n",
    "    return mel_feat\n",
    "\n",
    "def get_foa_intensity_vectors(linear_spectra,eps=1e-8):\n",
    "\n",
    "    W = linear_spectra[:, :, 0]\n",
    "    I = np.real(np.conj(W)[:, :, np.newaxis] * linear_spectra[:, :, 1:])\n",
    "    E = eps + (np.abs(W)**2 + ((np.abs(linear_spectra[:, :, 1:])**2).sum(-1))/3.0 )\n",
    "    \n",
    "    I_norm = I/E[:, :, np.newaxis]\n",
    "    I_norm_mel = np.transpose(np.dot(np.transpose(I_norm, (0,2,1)), mels_wts), (0,2,1))\n",
    "    foa_iv = I_norm_mel.transpose((0, 2, 1)).reshape((linear_spectra.shape[0], 40 * 3))\n",
    "    return foa_iv"
   ]
  },
  {
   "cell_type": "code",
   "execution_count": 11,
   "id": "84c8f3cc-5ef9-432c-a259-a4623eebda5f",
   "metadata": {},
   "outputs": [
    {
     "name": "stdout",
     "output_type": "stream",
     "text": [
      "(16000, 4)\n"
     ]
    }
   ],
   "source": [
    "raw = np.random.rand(16000,4)\n",
    "print(raw.shape)"
   ]
  },
  {
   "cell_type": "code",
   "execution_count": 12,
   "id": "060f80fb-dcd9-4405-b861-f07856e15f6a",
   "metadata": {},
   "outputs": [
    {
     "name": "stdout",
     "output_type": "stream",
     "text": [
      "(126, 257, 4)\n",
      "(126, 160)\n",
      "(126, 120)\n"
     ]
    }
   ],
   "source": [
    "spec = get_spectrogram(raw)\n",
    "print(spec.shape)\n",
    "\n",
    "mels = get_mel_spectrogram(spec)\n",
    "print(mels.shape)\n",
    "\n",
    "iv = get_foa_intensity_vectors(spec)\n",
    "print(iv.shape)"
   ]
  },
  {
   "cell_type": "markdown",
   "id": "1c4c688a-2494-4071-96fc-9a73a55185ef",
   "metadata": {},
   "source": [
    "RNN 쓸려면 T가 앞에 와야하니까 이런식으로 구성한듯? 근데 채널별 데이터를 다 하나로 해두었네"
   ]
  },
  {
   "cell_type": "code",
   "execution_count": null,
   "id": "4ecff553-3613-40e1-ba37-545c224bd8d3",
   "metadata": {},
   "outputs": [],
   "source": []
  }
 ],
 "metadata": {
  "kernelspec": {
   "display_name": "Python 3 (ipykernel)",
   "language": "python",
   "name": "python3"
  },
  "language_info": {
   "codemirror_mode": {
    "name": "ipython",
    "version": 3
   },
   "file_extension": ".py",
   "mimetype": "text/x-python",
   "name": "python",
   "nbconvert_exporter": "python",
   "pygments_lexer": "ipython3",
   "version": "3.9.0"
  }
 },
 "nbformat": 4,
 "nbformat_minor": 5
}
