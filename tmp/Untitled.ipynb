{
 "cells": [
  {
   "cell_type": "code",
   "execution_count": 15,
   "id": "b67cabd3-3e81-4c97-bc05-c0918318ec07",
   "metadata": {},
   "outputs": [],
   "source": [
    "import pickle\n",
    "import os,glob\n",
    "from tqdm import tqdm"
   ]
  },
  {
   "cell_type": "code",
   "execution_count": 16,
   "id": "721c9edf-fac3-4809-b8d7-a471194a5363",
   "metadata": {},
   "outputs": [],
   "source": [
    "# 데이터 로드\n",
    "with open('vox1_gender_path.pkl', 'rb') as f:\n",
    "    data = pickle.load(f)"
   ]
  },
  {
   "cell_type": "code",
   "execution_count": 17,
   "id": "3d207e78-57e0-4e2a-9b3c-257c3744c83d",
   "metadata": {},
   "outputs": [
    {
     "data": {
      "text/plain": [
       "246"
      ]
     },
     "execution_count": 17,
     "metadata": {},
     "output_type": "execute_result"
    }
   ],
   "source": [
    "len(data[\"male\"])"
   ]
  },
  {
   "cell_type": "code",
   "execution_count": 18,
   "id": "1aa30ff9-daa0-4277-9f93-b54921039eae",
   "metadata": {},
   "outputs": [
    {
     "data": {
      "text/plain": [
       "189"
      ]
     },
     "execution_count": 18,
     "metadata": {},
     "output_type": "execute_result"
    }
   ],
   "source": [
    "len(data[\"female\"])"
   ]
  },
  {
   "cell_type": "code",
   "execution_count": 19,
   "id": "2586a652-030e-40cf-8916-92104a952bb0",
   "metadata": {},
   "outputs": [
    {
     "name": "stderr",
     "output_type": "stream",
     "text": [
      "100%|███████████████████████████████████████████████████| 246/246 [00:04<00:00, 51.66it/s]"
     ]
    },
    {
     "name": "stdout",
     "output_type": "stream",
     "text": [
      "32180\n"
     ]
    },
    {
     "name": "stderr",
     "output_type": "stream",
     "text": [
      "\n"
     ]
    }
   ],
   "source": [
    "list_male = []\n",
    "\n",
    "for path_male in tqdm(data[\"male\"]) : \n",
    "    list_male += [x for x in glob.glob(os.path.join(path_male,\"**\",\"*.wav\"),recursive=True)]\n",
    "print(len(list_male))"
   ]
  },
  {
   "cell_type": "code",
   "execution_count": 20,
   "id": "204dc992-d00c-4d08-8998-f11d03274211",
   "metadata": {},
   "outputs": [
    {
     "name": "stderr",
     "output_type": "stream",
     "text": [
      "100%|███████████████████████████████████████████████████| 189/189 [00:03<00:00, 56.54it/s]"
     ]
    },
    {
     "name": "stdout",
     "output_type": "stream",
     "text": [
      "21535\n"
     ]
    },
    {
     "name": "stderr",
     "output_type": "stream",
     "text": [
      "\n"
     ]
    }
   ],
   "source": [
    "list_female = []\n",
    "\n",
    "for path_female in tqdm(data[\"female\"]) : \n",
    "    list_female += [x for x in glob.glob(os.path.join(path_female,\"**\",\"*.wav\"),recursive=True)]\n",
    "print(len(list_female))"
   ]
  },
  {
   "cell_type": "code",
   "execution_count": 14,
   "id": "43229c7c-526e-48a1-b9a6-29bab6ab3f3f",
   "metadata": {},
   "outputs": [
    {
     "name": "stdout",
     "output_type": "stream",
     "text": [
      "32180\n",
      "21535\n"
     ]
    }
   ],
   "source": [
    "print(len(list_male))\n",
    "print(len(list_female))"
   ]
  },
  {
   "cell_type": "code",
   "execution_count": 21,
   "id": "73645c91-11be-4ba9-805d-04a8dfdcebff",
   "metadata": {},
   "outputs": [
    {
     "data": {
      "text/plain": [
       "['/home/nas/DB/VoxCeleb1/dev/wav/id10004/6WxS8rpNjmk/00001.wav',\n",
       " '/home/nas/DB/VoxCeleb1/dev/wav/id10004/6WxS8rpNjmk/00002.wav',\n",
       " '/home/nas/DB/VoxCeleb1/dev/wav/id10004/6WxS8rpNjmk/00003.wav',\n",
       " '/home/nas/DB/VoxCeleb1/dev/wav/id10004/8mWxQ6DRO-U/00001.wav',\n",
       " '/home/nas/DB/VoxCeleb1/dev/wav/id10004/8mWxQ6DRO-U/00002.wav',\n",
       " '/home/nas/DB/VoxCeleb1/dev/wav/id10004/8mWxQ6DRO-U/00003.wav',\n",
       " '/home/nas/DB/VoxCeleb1/dev/wav/id10004/8mWxQ6DRO-U/00004.wav',\n",
       " '/home/nas/DB/VoxCeleb1/dev/wav/id10004/bIZQaEVuATQ/00001.wav',\n",
       " '/home/nas/DB/VoxCeleb1/dev/wav/id10004/bIZQaEVuATQ/00002.wav',\n",
       " '/home/nas/DB/VoxCeleb1/dev/wav/id10004/bIZQaEVuATQ/00003.wav']"
      ]
     },
     "execution_count": 21,
     "metadata": {},
     "output_type": "execute_result"
    }
   ],
   "source": [
    "list_male[:10]"
   ]
  },
  {
   "cell_type": "code",
   "execution_count": 23,
   "id": "c928641f-dc31-44a7-b8fd-d43d7dcdea94",
   "metadata": {},
   "outputs": [],
   "source": [
    "import numpy as np"
   ]
  },
  {
   "cell_type": "code",
   "execution_count": 31,
   "id": "28739adb-e164-4294-b509-096c260f1e2c",
   "metadata": {},
   "outputs": [
    {
     "data": {
      "text/plain": [
       "1"
      ]
     },
     "execution_count": 31,
     "metadata": {},
     "output_type": "execute_result"
    }
   ],
   "source": [
    "int(np.round(np.random.rand()))"
   ]
  },
  {
   "cell_type": "code",
   "execution_count": 36,
   "id": "69ad50da-15af-43fd-ae04-5bf3fda1e5f6",
   "metadata": {},
   "outputs": [],
   "source": [
    "root_jp_male = \"/home/nas3/DB/CSS10/Japanese/meian/\"\n",
    "root_jp_female = \"/home/nas3/DB/JSUT/\"\n",
    "\n",
    "list_jp_male = [x for x in glob.glob(os.path.join(root_jp_male,\"**\",\"*.wav\"),recursive=True)]\n",
    "list_jp_female = [x for x in glob.glob(os.path.join(root_jp_female,\"**\",\"*.wav\"),recursive=True)]"
   ]
  },
  {
   "cell_type": "code",
   "execution_count": 37,
   "id": "cb30a9e7-9d1b-4e2a-8d1f-ece41d46012a",
   "metadata": {},
   "outputs": [
    {
     "name": "stdout",
     "output_type": "stream",
     "text": [
      "6841\n",
      "7696\n"
     ]
    }
   ],
   "source": [
    "print(len(list_jp_male))\n",
    "print(len(list_jp_female))"
   ]
  },
  {
   "cell_type": "code",
   "execution_count": null,
   "id": "cde5c12c-160a-4f0a-834c-7b9eacc0b29b",
   "metadata": {},
   "outputs": [],
   "source": []
  }
 ],
 "metadata": {
  "kernelspec": {
   "display_name": "Python 3 (ipykernel)",
   "language": "python",
   "name": "python3"
  },
  "language_info": {
   "codemirror_mode": {
    "name": "ipython",
    "version": 3
   },
   "file_extension": ".py",
   "mimetype": "text/x-python",
   "name": "python",
   "nbconvert_exporter": "python",
   "pygments_lexer": "ipython3",
   "version": "3.9.0"
  }
 },
 "nbformat": 4,
 "nbformat_minor": 5
}
