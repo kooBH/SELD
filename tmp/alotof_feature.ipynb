{
 "cells": [
  {
   "cell_type": "code",
   "execution_count": 7,
   "id": "67cb2b5b-c3ba-4ad2-bbfb-dfef88a34f69",
   "metadata": {},
   "outputs": [],
   "source": [
    "import librosa\n",
    "import numpy as np"
   ]
  },
  {
   "cell_type": "code",
   "execution_count": 8,
   "id": "cd1f0501-2454-4e37-bc9f-257587908f02",
   "metadata": {},
   "outputs": [],
   "source": [
    "root_audio = \"/home/data/kbh/DCASE2022_SELD_synth_data/foa/\"\n",
    "target = \"fold1_room10_mix001\"\n",
    "\n",
    "# ms\n",
    "shift = 256\n",
    "n_fft = 1024\n",
    "fs = 24000\n",
    "dim_feature = 64"
   ]
  },
  {
   "cell_type": "code",
   "execution_count": 9,
   "id": "153d6473-2fa9-47f6-abb2-d8d649997107",
   "metadata": {},
   "outputs": [
    {
     "name": "stdout",
     "output_type": "stream",
     "text": [
      "raw : (4, 72000)\n"
     ]
    }
   ],
   "source": [
    "raw,_ = librosa.load(root_audio+target+\".wav\",sr=fs,mono=False)\n",
    "raw = raw[:,:72000]\n",
    "print(\"raw : {}\".format(raw.shape))"
   ]
  },
  {
   "cell_type": "code",
   "execution_count": 10,
   "id": "cdd4754f-dc3c-4632-8b23-04800deff993",
   "metadata": {},
   "outputs": [],
   "source": [
    "def get_foa_intensity_vectors(linear_spectra,n_mels,eps=1e-8):\n",
    "    mel_filter = librosa.filters.mel(sr=fs, n_fft=n_fft, n_mels=n_mels).T\n",
    "    W = linear_spectra[:, :, 0]\n",
    "    I = np.real(np.conj(W)[:, :, np.newaxis] * linear_spectra[:, :, 1:])\n",
    "    E = eps + (np.abs(W)**2 + ((np.abs(linear_spectra[:, :, 1:])**2).sum(-1))/3.0 )\n",
    "    \n",
    "    I_norm = I/E[:, :, np.newaxis]\n",
    "    I_norm_mel = np.transpose(np.dot(np.transpose(I_norm, (0,2,1)), mel_filter), (1,0,2))\n",
    "    \"\"\"\n",
    "    foa_iv = I_norm_mel.transpose((0, 2, 1)).reshape((linear_spectra.shape[0], n_mels * 3))\n",
    "    if np.isnan(foa_iv).any():\n",
    "        print('Feature extraction is generating nan outputs')\n",
    "        exit()\n",
    "    \"\"\"\n",
    "    return I_norm_mel"
   ]
  },
  {
   "cell_type": "code",
   "execution_count": 11,
   "id": "af110b15-8314-4994-8a99-f76996e5dfe4",
   "metadata": {},
   "outputs": [
    {
     "name": "stdout",
     "output_type": "stream",
     "text": [
      "(4, 513, 282)\n"
     ]
    }
   ],
   "source": [
    "spec = []\n",
    "for c in range(4) : \n",
    "    spec.append(librosa.stft(raw[c,:],n_fft=n_fft))\n",
    "spec = np.array(spec)\n",
    "print(spec.shape)"
   ]
  },
  {
   "cell_type": "code",
   "execution_count": 27,
   "id": "c376eabe-6918-47c5-973b-c63d31d59359",
   "metadata": {},
   "outputs": [
    {
     "name": "stdout",
     "output_type": "stream",
     "text": [
      "(3, 282, 64)\n",
      "(64, 282)\n",
      "(12, 282)\n",
      "(1, 282)\n",
      "(1, 282)\n",
      "(7, 282)\n",
      "(1, 282)\n"
     ]
    }
   ],
   "source": [
    "IV = get_foa_intensity_vectors(spec.T, n_mels = dim_feature)\n",
    "print(IV.shape)\n",
    "\n",
    "\n",
    "mfcc = librosa.feature.mfcc(raw[c,:], sr=fs, n_mfcc=dim_feature, n_fft = n_fft,hop_length=shift)\n",
    "print(mfcc.shape)\n",
    "\n",
    "# mono 만 가능\n",
    "chroma_stft = librosa.feature.chroma_stft(raw[0], sr=fs, n_fft = n_fft,hop_length=shift)\n",
    "print(chroma_stft.shape)\n",
    "\n",
    "# 아래는 mag만 가능\n",
    "spectral_centroid = librosa.feature.spectral_centroid(S=np.abs(spec)[0], sr=fs, n_fft = n_fft,hop_length=shift)\n",
    "print(spectral_centroid.shape)\n",
    "\n",
    "spectral_bandwidth = librosa.feature.spectral_bandwidth(S=np.abs(spec)[0], sr=fs, n_fft = n_fft,hop_length=shift)\n",
    "print(spectral_bandwidth.shape)\n",
    "\n",
    "spectral_contrast = librosa.feature.spectral_contrast(S=np.abs(spec)[0], sr=fs, n_fft = n_fft,hop_length=shift)\n",
    "print(spectral_contrast.shape)\n",
    "\n",
    "spectral_flatness = librosa.feature.spectral_flatness(S=np.abs(spec)[0], n_fft = n_fft,hop_length=shift)\n",
    "print(spectral_flatness.shape)"
   ]
  },
  {
   "cell_type": "code",
   "execution_count": 34,
   "id": "15670f69-0b27-484a-8698-cd021be26aae",
   "metadata": {},
   "outputs": [
    {
     "name": "stdout",
     "output_type": "stream",
     "text": [
      "[[1.         0.91481304 0.95095545 ... 0.04832633 0.11612966 0.20021468]\n",
      " [0.9393179  0.9313058  0.89147884 ... 0.08728583 0.12523416 0.09456823]\n",
      " [0.9132628  0.91995597 0.86078674 ... 0.4045147  0.25959364 0.06088699]\n",
      " ...\n",
      " [0.7191333  0.7757538  0.98636883 ... 0.38417563 0.7653442  0.9821886 ]\n",
      " [0.74931765 0.7490644  0.9968407  ... 0.2569745  0.52122104 0.87429273]\n",
      " [0.8444935  0.7614243  0.9606041  ... 0.11358879 0.25830454 0.46830082]]\n"
     ]
    }
   ],
   "source": [
    "print(chroma_stft)"
   ]
  },
  {
   "cell_type": "code",
   "execution_count": 46,
   "id": "dab53b47-54fe-496a-bef0-abf4c96e49ae",
   "metadata": {},
   "outputs": [
    {
     "data": {
      "text/plain": [
       "(513, 282)"
      ]
     },
     "execution_count": 46,
     "metadata": {},
     "output_type": "execute_result"
    }
   ],
   "source": [
    "spec[0].shape"
   ]
  },
  {
   "cell_type": "code",
   "execution_count": 2,
   "id": "5984f7fa-80f8-4a01-91fb-cdd8d34ec10c",
   "metadata": {},
   "outputs": [],
   "source": [
    "import torch\n",
    "data = torch.load(\"/home/data/kbh/DCASE2022/d0/test/fold4_room10_mix001_0_.pt\")"
   ]
  },
  {
   "cell_type": "code",
   "execution_count": 6,
   "id": "c0415bc0-4f84-4f95-b242-6ec75bd5a217",
   "metadata": {},
   "outputs": [
    {
     "data": {
      "text/plain": [
       "(4, 282, 126)"
      ]
     },
     "execution_count": 6,
     "metadata": {},
     "output_type": "execute_result"
    }
   ],
   "source": [
    "data[\"data\"].shape"
   ]
  },
  {
   "cell_type": "code",
   "execution_count": 35,
   "id": "d14a4691-9ea2-4ad2-af38-e800aac468b7",
   "metadata": {},
   "outputs": [],
   "source": [
    "import torch"
   ]
  },
  {
   "cell_type": "code",
   "execution_count": 43,
   "id": "dcdf42b5-955b-42fa-b596-1752d03c3ab6",
   "metadata": {},
   "outputs": [],
   "source": [
    "x = torch.tensor((1,2,3))\n",
    "y= torch.zeros((2,3))\n",
    "y[0,:]=x"
   ]
  },
  {
   "cell_type": "code",
   "execution_count": 44,
   "id": "03ee3669-dba9-4b21-b95a-a64ca94f096a",
   "metadata": {},
   "outputs": [
    {
     "data": {
      "text/plain": [
       "tensor([[1., 2., 3.],\n",
       "        [0., 0., 0.]])"
      ]
     },
     "execution_count": 44,
     "metadata": {},
     "output_type": "execute_result"
    }
   ],
   "source": [
    "y"
   ]
  },
  {
   "cell_type": "code",
   "execution_count": null,
   "id": "f6c106e9-1611-4631-8b5c-4277552782fa",
   "metadata": {},
   "outputs": [],
   "source": []
  }
 ],
 "metadata": {
  "kernelspec": {
   "display_name": "Python 3 (ipykernel)",
   "language": "python",
   "name": "python3"
  },
  "language_info": {
   "codemirror_mode": {
    "name": "ipython",
    "version": 3
   },
   "file_extension": ".py",
   "mimetype": "text/x-python",
   "name": "python",
   "nbconvert_exporter": "python",
   "pygments_lexer": "ipython3",
   "version": "3.9.0"
  }
 },
 "nbformat": 4,
 "nbformat_minor": 5
}
