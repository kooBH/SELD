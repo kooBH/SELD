{
 "cells": [
  {
   "cell_type": "code",
   "execution_count": 374,
   "id": "c1d9537c-0dc0-4788-a0e5-0f15ba135eed",
   "metadata": {},
   "outputs": [],
   "source": [
    "import pandas as pd\n",
    "import librosa\n",
    "import numpy as np\n",
    "import os,glob\n",
    "from tqdm import tqdm"
   ]
  },
  {
   "cell_type": "markdown",
   "id": "06fafc63-35a9-4e8e-adb8-89829ccd898f",
   "metadata": {},
   "source": [
    "# Metrics  \n",
    "The metrics are based on true positives (TP) and false positives (FP) determined not only by correct or wrong detections, but also based on if they are closer or further than a distance threshold T∘ (angular in our case) from the reference. For the evaluation of this challenge we take this threshold to be T=20∘.  \n",
    "  \n",
    "More specifically, for each class c∈[1,...,C] and each frame or segment:  \n",
    "  \n",
    "Pc predicted events of class c are associated with Rc reference events of class c  \n",
    "false negatives are counted for misses: FNc=max(0,Rc−Pc)  \n",
    "false positives are counted for extraneous predictions: FPc,∞=max(0,Pc−Rc)  \n",
    "Kc predictions are spatially associated with references based on Hungarian algorithm: Kc=min(Pc,Rc). Those can also be considered as the unthresholded true positives TPc=Kc.  \n",
    "the spatial threshold is applied which moves Lc≤Kc predictions further than threhold to false positives: FPc,≥20∘=Lc, and FPc=FPc,∞+FPc,≥20∘  \n",
    "the remaining matched estimates per class are counted as true positives: TPc,≤20∘=Kc−FPc,≥20∘  \n",
    "finally: predictions Pc=TPc,≤20∘+FPc, but references Rc=TPc,≤20∘+FPc,≥20∘+FNc  \n",
    "Based on those, we form the location-dependent F1-score (F≤20∘) and Error Rate (ER≤20∘). Contrary to the previous challenges, in which F≤20∘ was micro-averaged, in this challenge we perform macro-averaging of the location-dependent F1-score: F≤20∘=∑cFc,≤20∘/C.  \n",
    "  \n",
    "Additionally, we evaluate localization accuracy through a class-dependent localization error LEc, computed as the mean angular error of the matched true positives per class, and then macro-averaged:\n",
    "  \n",
    "LEc=∑kθk/Kc=∑kθk/TPc for each frame or segment, with θk being the angular error between the kth matched prediction and re  ference,  \n",
    "and after averaging across all frames that have any true positives, LECD=∑cLEc/C.\n",
    "Complementary to the localization error, we compute a localization recall metric per class, also macro-averaged:  \n",
    "\n",
    "LRc=Kc/Rc=TPc/(TPc+FNc), and\n",
    "LRCD=∑cLRc/C.\n",
    "Note that the localization error and recall are not thresholded in order to give more varied complementary information to the location-dependent F1-score, presenting localization accuracy outside of the spatial threshold."
   ]
  },
  {
   "cell_type": "markdown",
   "id": "b5ffa09c-59ff-4b70-9cf6-029b87ead06c",
   "metadata": {},
   "source": [
    "# Ranking\n",
    "Overall ranking will be based on the cumulative rank of the metrics mentioned above, sorted in ascending order. By cumulative rank we mean the following: if system A was ranked individually for each metric as ER:1,F1:1,LE:3,LR:1, then its cumulative rank is 1+1+3+1=6. Then if system B has ER:3,F1:2,LE:2,LR:3 (10), and system C has ER:2,F1:3,LE:1,LR:2 (8), then the overall rank of the systems is A,C,B. If two systems end up with the same cumulative rank, then they are assumed to have equal place in the challenge, even though they will be listed alphabetically in the ranking tables"
   ]
  },
  {
   "cell_type": "code",
   "execution_count": 394,
   "id": "7adc501d-b120-4dcf-9e53-9e184cbd3d84",
   "metadata": {},
   "outputs": [],
   "source": [
    "root_eval = \"/home/data/kbh/DCASE_eval/\"\n",
    "\n",
    "dir_label = \"eval_label\"\n",
    "dir_audio = \"foa_eval\"\n",
    "\n",
    "list_label = [x for x in glob.glob(os.path.join(root_eval,dir_label,\"*.csv\"))]\n",
    "\n",
    "cat = [\n",
    "    \"Female speech, woman speaking\", \n",
    "    \"Male speech, man speaking\", \n",
    "    \"Clapping\",\n",
    "    \"Telephone\",\n",
    "    \"Laughter\",\n",
    "    \"Domestic sounds\",\n",
    "    \"Walk, footsteps\",\n",
    "    \"Door, open or close\",\n",
    "    \"Music\",\n",
    "    \"Musical instrument\",\n",
    "    \"Water tap, faucet\",\n",
    "    \"Bell\",\n",
    "    \"Knock\"\n",
    "]"
   ]
  },
  {
   "cell_type": "code",
   "execution_count": 395,
   "id": "6756ef79-0b5e-48fb-9cf7-e223b514335d",
   "metadata": {},
   "outputs": [],
   "source": [
    "def eval(path_target,dir_sub):\n",
    "    name_target = path_target.split('/')[-1]\n",
    "    id_target = name_target.split('.')[0]\n",
    "    \n",
    "    path_sub = os.path.join(root_eval,dir_sub,name_target)\n",
    "    path_aud = os.path.join(root_eval,dir_audio,id_target+\".wav\")    \n",
    "\n",
    "    raw,_ = librosa.load(path_aud,sr=24000)\n",
    "    len_target = len(raw)\n",
    "    n_label = int(len_target/24000)\n",
    "    \n",
    "    #print(\"Target :  {}\".format(id_target))\n",
    "    #print(n_label)\n",
    "    \n",
    "    # Label\n",
    "    csv_label = pd.read_csv(\n",
    "        path_target,\n",
    "        names=[\"idx\",\"1\",\"2\",\"3\",\"4\",\"5\"],\n",
    "        index_col=\"idx\",\n",
    "        #dtype=np.int32,\n",
    "        keep_default_na=False\n",
    "    )\n",
    "    label = csv_label[:n_label]\n",
    "    \n",
    "    csv_sub   = pd.read_csv(path_sub,names=[\"idx\",\"1\",\"2\",\"3\",\"4\",\"5\"], keep_default_na=False)\n",
    "    #print(\"csv_sub\")\n",
    "    #display(csv_sub[15:])\n",
    "    # submission compression\n",
    "    \n",
    "    sub = pd.DataFrame(np.empty((n_label, 5),dtype=str) ,columns = [\"1\",\"2\",\"3\",\"4\",\"5\"])\n",
    "    \n",
    "    #display(csv_sub)\n",
    "    for i_sub in csv_sub.index:\n",
    "        idx = csv_sub.loc[i_sub][0]\n",
    "        cat = csv_sub.loc[i_sub][1]\n",
    "        \n",
    "        j_sub = int(idx/10)\n",
    "        \n",
    "        if j_sub >= n_label:\n",
    "            break\n",
    "        \n",
    "        # print(\"{} {} {}\".format(idx,j_sub,cat))\n",
    "        i_src = 0\n",
    "        \n",
    "        inserted = False\n",
    "        for i_src in range(5) : \n",
    "            if sub.iloc[j_sub][i_src] == \"\" :\n",
    "                sub.iloc[j_sub][i_src] = cat\n",
    "                inserted = True\n",
    "                break\n",
    "            # dup\n",
    "            elif sub.iloc[j_sub][i_src] == cat:\n",
    "                inserted = True\n",
    "                break\n",
    "                \n",
    "        if not inserted :\n",
    "            print(\"{} sub[{}] more than 5 soruce\".format(id_target,j_sub))\n",
    "    \n",
    "    #print(\"sub\")\n",
    "    #display(sub)\n",
    "    \n",
    "    ## Eval\n",
    "    \n",
    "    TP = 0\n",
    "    FP = 0\n",
    "    FN = 0\n",
    "    TN = 0\n",
    "    \n",
    "    TP_cat = np.zeros(13)\n",
    "    FP_cat = np.zeros(13)\n",
    "    FN_cat = np.zeros(13)\n",
    "    TN_cat = np.zeros(13)\n",
    "    \n",
    "    for i_label in range(n_label) : \n",
    "        #print(\"=====\")\n",
    "        s_label = label.iloc[i_label]\n",
    "        s_sub   = sub.iloc[i_label]\n",
    "        \n",
    "        #print(\"label s: \\n{}\".format(s_label))\n",
    "        #print(\"submt s: \\n{}\".format(s_sub))\n",
    "        \n",
    "        l_label = list(filter(None, s_label))\n",
    "        #l_sub = list(filter(None, sub.iloc[i_label])) => also remove 0 value\n",
    "        \n",
    "        l_sub = [i for i in s_sub if i != \"\"]\n",
    "        \n",
    "        #print(\"label l: {}\".format(l_label))\n",
    "        #print(\"submt l: {}\".format(l_sub))\n",
    "        \n",
    "        # Exception\n",
    "        \n",
    "        if \" \" in l_label : \n",
    "            l_label = l_label.remove(\" \")\n",
    "        if l_label is None : \n",
    "            l_label = []\n",
    "        if \"  \" in l_label :\n",
    "            l_label = l_label.remove(\"  \")  \n",
    "        if l_label is None : \n",
    "            l_label = []\n",
    "        \n",
    "        if len(l_label) == 0 and len(l_sub) == 0 :\n",
    "            TN +=1\n",
    "            TN_cat[:] +=1\n",
    "            continue\n",
    "            \n",
    "        l_label = list(map(int, l_label))\n",
    "\n",
    "        ## True\n",
    "        for iter_sub in l_sub : \n",
    "            if iter_sub in l_label : \n",
    "                TP+=1\n",
    "                TP_cat[iter_sub] +=1\n",
    "            else : \n",
    "                FP+=1\n",
    "                FP_cat[iter_sub] +=1\n",
    "                \n",
    "        for iter_label in l_label :\n",
    "            if iter_label not in l_sub:\n",
    "                FN+=1\n",
    "                FN_cat[iter_label] +=1\n",
    "\n",
    "    recall = TP/(TP+FN)\n",
    "    f1 = (2*TP)/(2*TP+FP+FN)\n",
    "    acc = (TP+TN)/(TP+TN+FP+FN)\n",
    "                \n",
    "    \"\"\"       \n",
    "    print(\"    |  PP   |   PN \")\n",
    "    print(\" P  | {:2d}    |   {:2d}\".format(TP,FN))\n",
    "    print(\" N  | {:2d}    |   {:2d}\".format(FP, TN))\n",
    "    print(\"f1-score {:.3f}\".format(f1))\n",
    "    print(\"accuracy {:.3f}\".format(acc))\n",
    "    print(\"recall   {:.3f}\".format(recall))\n",
    "    \"\"\"\n",
    "\n",
    "    return recall,f1,acc, TP_cat,FP_cat,FN_cat,TN_cat"
   ]
  },
  {
   "cell_type": "code",
   "execution_count": 391,
   "id": "3a173698-8cec-4909-8dbf-03a71a607ff3",
   "metadata": {},
   "outputs": [
    {
     "name": "stdout",
     "output_type": "stream",
     "text": [
      "[54.  0.  0.  3.  0.  0.  0.  0.  0.  0.  0.  0.  0.]\n"
     ]
    }
   ],
   "source": [
    "t_recall, t_f1, t_acc,t_TP,t_FP,t_FN,t_TN = eval(\"/home/data/kbh/DCASE_eval/eval_label/mix020.csv\",\"submission-665\")\n",
    "print(t_TP)"
   ]
  },
  {
   "cell_type": "code",
   "execution_count": 396,
   "id": "8b214aee-0048-4567-b587-aa91042e94e2",
   "metadata": {},
   "outputs": [],
   "source": [
    "def eval_model(dir_sub) : \n",
    "    list_label = [x for x in glob.glob(os.path.join(root_eval,dir_label,\"*.csv\"))]\n",
    "\n",
    "    recall = 0.0\n",
    "    f1 = 0.0\n",
    "    acc = 0.0\n",
    "    \n",
    "    min_f1 = 10\n",
    "    max_f1 = 0\n",
    "    min_path = \"\"\n",
    "    max_path = \"\"\n",
    "    \n",
    "    TP_cat = np.zeros(13)\n",
    "    FP_cat = np.zeros(13)\n",
    "    FN_cat = np.zeros(13)\n",
    "    TN_cat = np.zeros(13)\n",
    "        \n",
    "    \n",
    "    for path in tqdm(list_label) : \n",
    "        t_recall, t_f1, t_acc,t_TP,t_FP,t_FN,t_TN = eval(path,dir_sub)\n",
    "        \n",
    "        if t_f1 > max_f1 : \n",
    "            max_f1 = t_f1\n",
    "            max_path = path\n",
    "        \n",
    "        if t_f1 < min_f1 : \n",
    "            min_f1 = t_f1\n",
    "            min_path = path\n",
    "        \n",
    "        TP_cat += t_TP\n",
    "        FP_cat += t_FP\n",
    "        FN_cat += t_FN\n",
    "        TN_cat += t_TN\n",
    "        \n",
    "        \n",
    "        recall += t_recall\n",
    "        f1 += t_f1\n",
    "        acc += t_acc\n",
    "\n",
    "    n_target = len(list_label)\n",
    "\n",
    "    print(dir_sub)\n",
    "    print(\"n_target : {}\".format(n_target))\n",
    "    print(\"f1-score {:.3f}\".format(f1/n_target))\n",
    "    print(\"accuracy {:.3f}\".format(acc/n_target))\n",
    "    print(\"recall   {:.3f}\".format(recall/n_target))\n",
    "    print(\"max f1 {:.3f} at {}\".format(max_f1,max_path))\n",
    "    print(\"min f1 {:.3f} at {}\".format(min_f1,min_path))\n",
    "    print(\"--------------------------\")\n",
    "    for i in range(13):\n",
    "        print(\"f1[{}] : {:.6f}\".format(cat[i],(2*TP_cat[i])/(2*TP_cat[i]+FP_cat[i]+FN_cat[i])))\n",
    "    print(\"--------------------------\")\n",
    "    for i in range(13):\n",
    "        print(\"acc[{}] : {:.6f}\".format(cat[i],(TP_cat[i]+TN_cat[i])/(TP_cat[i]+TN_cat[i]+FP_cat[i]+FN_cat[i])))\n",
    "    print(\"--------------------------\")\n",
    "    for i in range(13):\n",
    "        print(\"recall[{}] : {:.6f}\".format(cat[i],(TP_cat[i]/(TP_cat[i]+FN_cat[i]))))"
   ]
  },
  {
   "cell_type": "code",
   "execution_count": 402,
   "id": "d48a2a97-b599-480e-808f-4230a03ee079",
   "metadata": {},
   "outputs": [
    {
     "name": "stderr",
     "output_type": "stream",
     "text": [
      "100%|███████████████████████████████████████████████| 52/52 [00:18<00:00,  2.84it/s]"
     ]
    },
    {
     "name": "stdout",
     "output_type": "stream",
     "text": [
      "13_627\n",
      "n_target : 52\n",
      "f1-score 0.697\n",
      "accuracy 0.582\n",
      "recall   0.706\n",
      "max f1 1.000 at /home/data/kbh/DCASE_eval/eval_label/mix036.csv\n",
      "min f1 0.042 at /home/data/kbh/DCASE_eval/eval_label/mix041.csv\n",
      "--------------------------\n",
      "f1[Female speech, woman speaking] : 0.704913\n",
      "f1[Male speech, man speaking] : 0.793070\n",
      "f1[Clapping] : 0.597222\n",
      "f1[Telephone] : 0.460317\n",
      "f1[Laughter] : 0.397638\n",
      "f1[Domestic sounds] : 0.696477\n",
      "f1[Walk, footsteps] : 0.319728\n",
      "f1[Door, open or close] : 0.202899\n",
      "f1[Music] : 0.730315\n",
      "f1[Musical instrument] : 0.300000\n",
      "f1[Water tap, faucet] : 0.021978\n",
      "f1[Bell] : 0.673740\n",
      "f1[Knock] : 0.238095\n",
      "--------------------------\n",
      "acc[Female speech, woman speaking] : 0.620387\n",
      "acc[Male speech, man speaking] : 0.694240\n",
      "acc[Clapping] : 0.896057\n",
      "acc[Telephone] : 0.877256\n",
      "acc[Laughter] : 0.645833\n",
      "acc[Domestic sounds] : 0.646316\n",
      "acc[Walk, footsteps] : 0.715909\n",
      "acc[Door, open or close] : 0.894027\n",
      "acc[Music] : 0.656355\n",
      "acc[Musical instrument] : 0.523020\n",
      "acc[Water tap, faucet] : 0.837294\n",
      "acc[Bell] : 0.826025\n",
      "acc[Knock] : 0.879473\n",
      "--------------------------\n",
      "recall[Female speech, woman speaking] : 0.622055\n",
      "recall[Male speech, man speaking] : 0.897278\n",
      "recall[Clapping] : 0.623188\n",
      "recall[Telephone] : 0.367089\n",
      "recall[Laughter] : 0.515306\n",
      "recall[Domestic sounds] : 0.777218\n",
      "recall[Walk, footsteps] : 0.204348\n",
      "recall[Door, open or close] : 0.205882\n",
      "recall[Music] : 0.742000\n",
      "recall[Musical instrument] : 0.288312\n",
      "recall[Water tap, faucet] : 0.011236\n",
      "recall[Bell] : 0.619512\n",
      "recall[Knock] : 0.161290\n"
     ]
    },
    {
     "name": "stderr",
     "output_type": "stream",
     "text": [
      "\n"
     ]
    }
   ],
   "source": [
    "eval_model(\"13_627\")"
   ]
  },
  {
   "cell_type": "code",
   "execution_count": 403,
   "id": "6d27b7de-96ac-41ba-8a3f-d3d3330b1088",
   "metadata": {},
   "outputs": [
    {
     "name": "stderr",
     "output_type": "stream",
     "text": [
      "100%|███████████████████████████████████████████████| 52/52 [00:18<00:00,  2.84it/s]"
     ]
    },
    {
     "name": "stdout",
     "output_type": "stream",
     "text": [
      "new_13_627\n",
      "n_target : 52\n",
      "f1-score 0.697\n",
      "accuracy 0.581\n",
      "recall   0.705\n",
      "max f1 1.000 at /home/data/kbh/DCASE_eval/eval_label/mix036.csv\n",
      "min f1 0.042 at /home/data/kbh/DCASE_eval/eval_label/mix041.csv\n",
      "--------------------------\n",
      "f1[Female speech, woman speaking] : 0.704746\n",
      "f1[Male speech, man speaking] : 0.793197\n",
      "f1[Clapping] : 0.597222\n",
      "f1[Telephone] : 0.460317\n",
      "f1[Laughter] : 0.392857\n",
      "f1[Domestic sounds] : 0.689373\n",
      "f1[Walk, footsteps] : 0.319728\n",
      "f1[Door, open or close] : 0.202899\n",
      "f1[Music] : 0.730315\n",
      "f1[Musical instrument] : 0.301221\n",
      "f1[Water tap, faucet] : 0.021978\n",
      "f1[Bell] : 0.670241\n",
      "f1[Knock] : 0.238095\n",
      "--------------------------\n",
      "acc[Female speech, woman speaking] : 0.620249\n",
      "acc[Male speech, man speaking] : 0.694405\n",
      "acc[Clapping] : 0.896057\n",
      "acc[Telephone] : 0.877256\n",
      "acc[Laughter] : 0.645012\n",
      "acc[Domestic sounds] : 0.640000\n",
      "acc[Walk, footsteps] : 0.715909\n",
      "acc[Door, open or close] : 0.894027\n",
      "acc[Music] : 0.656355\n",
      "acc[Musical instrument] : 0.524469\n",
      "acc[Water tap, faucet] : 0.837294\n",
      "acc[Bell] : 0.825532\n",
      "acc[Knock] : 0.879473\n",
      "--------------------------\n",
      "recall[Female speech, woman speaking] : 0.621554\n",
      "recall[Male speech, man speaking] : 0.897278\n",
      "recall[Clapping] : 0.623188\n",
      "recall[Telephone] : 0.367089\n",
      "recall[Laughter] : 0.505102\n",
      "recall[Domestic sounds] : 0.765121\n",
      "recall[Walk, footsteps] : 0.204348\n",
      "recall[Door, open or close] : 0.205882\n",
      "recall[Music] : 0.742000\n",
      "recall[Musical instrument] : 0.288312\n",
      "recall[Water tap, faucet] : 0.011236\n",
      "recall[Bell] : 0.609756\n",
      "recall[Knock] : 0.161290\n"
     ]
    },
    {
     "name": "stderr",
     "output_type": "stream",
     "text": [
      "\n"
     ]
    }
   ],
   "source": [
    "#eval_model(\"submission-665\")\n",
    "#eval_model(\"3track-submission652\")\n",
    "#eval_model(\"7_ER641_submissions\")\n",
    "#eval_model(\"new_7_641_submissions\")\n",
    "\n",
    "eval_model(\"new_13_627\")"
   ]
  },
  {
   "cell_type": "code",
   "execution_count": 404,
   "id": "55c5af7e-1b18-4e26-a4ab-1dc2cebf9b2a",
   "metadata": {},
   "outputs": [
    {
     "name": "stderr",
     "output_type": "stream",
     "text": [
      "100%|███████████████████████████████████████████████| 52/52 [00:19<00:00,  2.71it/s]"
     ]
    },
    {
     "name": "stdout",
     "output_type": "stream",
     "text": [
      "16_616\n",
      "n_target : 52\n",
      "f1-score 0.691\n",
      "accuracy 0.580\n",
      "recall   0.706\n",
      "max f1 1.000 at /home/data/kbh/DCASE_eval/eval_label/mix036.csv\n",
      "min f1 0.227 at /home/data/kbh/DCASE_eval/eval_label/mix018.csv\n",
      "--------------------------\n",
      "f1[Female speech, woman speaking] : 0.644556\n",
      "f1[Male speech, man speaking] : 0.786447\n",
      "f1[Clapping] : 0.478632\n",
      "f1[Telephone] : 0.427350\n",
      "f1[Laughter] : 0.445026\n",
      "f1[Domestic sounds] : 0.704770\n",
      "f1[Walk, footsteps] : 0.204380\n",
      "f1[Door, open or close] : 0.322581\n",
      "f1[Music] : 0.715291\n",
      "f1[Musical instrument] : 0.346032\n",
      "f1[Water tap, faucet] : 0.000000\n",
      "f1[Bell] : 0.491909\n",
      "f1[Knock] : 0.265060\n",
      "--------------------------\n",
      "acc[Female speech, woman speaking] : 0.572932\n",
      "acc[Male speech, man speaking] : 0.687585\n",
      "acc[Clapping] : 0.895369\n",
      "acc[Telephone] : 0.885666\n",
      "acc[Laughter] : 0.731985\n",
      "acc[Domestic sounds] : 0.660631\n",
      "acc[Walk, footsteps] : 0.705405\n",
      "acc[Door, open or close] : 0.923077\n",
      "acc[Music] : 0.635676\n",
      "acc[Musical instrument] : 0.594089\n",
      "acc[Water tap, faucet] : 0.847341\n",
      "acc[Bell] : 0.784044\n",
      "acc[Knock] : 0.892226\n",
      "--------------------------\n",
      "recall[Female speech, woman speaking] : 0.514486\n",
      "recall[Male speech, man speaking] : 0.918997\n",
      "recall[Clapping] : 0.405797\n",
      "recall[Telephone] : 0.316456\n",
      "recall[Laughter] : 0.431472\n",
      "recall[Domestic sounds] : 0.789315\n",
      "recall[Walk, footsteps] : 0.121739\n",
      "recall[Door, open or close] : 0.294118\n",
      "recall[Music] : 0.846667\n",
      "recall[Musical instrument] : 0.283117\n",
      "recall[Water tap, faucet] : 0.000000\n",
      "recall[Bell] : 0.370732\n",
      "recall[Knock] : 0.177419\n"
     ]
    },
    {
     "name": "stderr",
     "output_type": "stream",
     "text": [
      "\n"
     ]
    }
   ],
   "source": [
    "eval_model(\"16_616\")"
   ]
  },
  {
   "cell_type": "code",
   "execution_count": 406,
   "id": "6ea13a65-8bf5-41bb-b678-3abdd09d7151",
   "metadata": {},
   "outputs": [
    {
     "name": "stderr",
     "output_type": "stream",
     "text": [
      "100%|███████████████████████████████████████████████| 52/52 [00:18<00:00,  2.74it/s]"
     ]
    },
    {
     "name": "stdout",
     "output_type": "stream",
     "text": [
      "ER615_real\n",
      "n_target : 52\n",
      "f1-score 0.686\n",
      "accuracy 0.582\n",
      "recall   0.682\n",
      "max f1 1.000 at /home/data/kbh/DCASE_eval/eval_label/mix036.csv\n",
      "min f1 0.138 at /home/data/kbh/DCASE_eval/eval_label/mix020.csv\n",
      "--------------------------\n",
      "f1[Female speech, woman speaking] : 0.587963\n",
      "f1[Male speech, man speaking] : 0.777210\n",
      "f1[Clapping] : 0.597015\n",
      "f1[Telephone] : 0.432000\n",
      "f1[Laughter] : 0.397820\n",
      "f1[Domestic sounds] : 0.684355\n",
      "f1[Walk, footsteps] : 0.277966\n",
      "f1[Door, open or close] : 0.140845\n",
      "f1[Music] : 0.776935\n",
      "f1[Musical instrument] : 0.293548\n",
      "f1[Water tap, faucet] : 0.000000\n",
      "f1[Bell] : 0.686016\n",
      "f1[Knock] : 0.200000\n",
      "--------------------------\n",
      "acc[Female speech, woman speaking] : 0.530343\n",
      "acc[Male speech, man speaking] : 0.677860\n",
      "acc[Clapping] : 0.911765\n",
      "acc[Telephone] : 0.884740\n",
      "acc[Laughter] : 0.727833\n",
      "acc[Domestic sounds] : 0.647239\n",
      "acc[Walk, footsteps] : 0.724093\n",
      "acc[Door, open or close] : 0.895548\n",
      "acc[Music] : 0.709830\n",
      "acc[Musical instrument] : 0.581662\n",
      "acc[Water tap, faucet] : 0.853377\n",
      "acc[Bell] : 0.844850\n",
      "acc[Knock] : 0.903614\n",
      "--------------------------\n",
      "recall[Female speech, woman speaking] : 0.444056\n",
      "recall[Male speech, man speaking] : 0.911071\n",
      "recall[Clapping] : 0.579710\n",
      "recall[Telephone] : 0.341772\n",
      "recall[Laughter] : 0.370558\n",
      "recall[Domestic sounds] : 0.754032\n",
      "recall[Walk, footsteps] : 0.178261\n",
      "recall[Door, open or close] : 0.147059\n",
      "recall[Music] : 0.853333\n",
      "recall[Musical instrument] : 0.236364\n",
      "recall[Water tap, faucet] : 0.000000\n",
      "recall[Bell] : 0.634146\n",
      "recall[Knock] : 0.112903\n"
     ]
    },
    {
     "name": "stderr",
     "output_type": "stream",
     "text": [
      "\n"
     ]
    }
   ],
   "source": [
    "eval_model(\"ER615_real\")"
   ]
  },
  {
   "cell_type": "code",
   "execution_count": 409,
   "id": "7d08a1f7-a125-46f0-834c-998c0416d6f7",
   "metadata": {},
   "outputs": [
    {
     "name": "stderr",
     "output_type": "stream",
     "text": [
      "100%|███████████████████████████████████████████████| 52/52 [00:19<00:00,  2.64it/s]"
     ]
    },
    {
     "name": "stdout",
     "output_type": "stream",
     "text": [
      "ER616_Real\n",
      "n_target : 52\n",
      "f1-score 0.693\n",
      "accuracy 0.581\n",
      "recall   0.708\n",
      "max f1 1.000 at /home/data/kbh/DCASE_eval/eval_label/mix036.csv\n",
      "min f1 0.227 at /home/data/kbh/DCASE_eval/eval_label/mix018.csv\n",
      "--------------------------\n",
      "f1[Female speech, woman speaking] : 0.645625\n",
      "f1[Male speech, man speaking] : 0.786203\n",
      "f1[Clapping] : 0.478632\n",
      "f1[Telephone] : 0.427350\n",
      "f1[Laughter] : 0.451948\n",
      "f1[Domestic sounds] : 0.714605\n",
      "f1[Walk, footsteps] : 0.204380\n",
      "f1[Door, open or close] : 0.322581\n",
      "f1[Music] : 0.715090\n",
      "f1[Musical instrument] : 0.344937\n",
      "f1[Water tap, faucet] : 0.000000\n",
      "f1[Bell] : 0.498403\n",
      "f1[Knock] : 0.265060\n",
      "--------------------------\n",
      "acc[Female speech, woman speaking] : 0.573844\n",
      "acc[Male speech, man speaking] : 0.687273\n",
      "acc[Clapping] : 0.895369\n",
      "acc[Telephone] : 0.885666\n",
      "acc[Laughter] : 0.733586\n",
      "acc[Domestic sounds] : 0.669426\n",
      "acc[Walk, footsteps] : 0.705405\n",
      "acc[Door, open or close] : 0.923077\n",
      "acc[Music] : 0.635447\n",
      "acc[Musical instrument] : 0.592920\n",
      "acc[Water tap, faucet] : 0.847341\n",
      "acc[Bell] : 0.784636\n",
      "acc[Knock] : 0.892226\n",
      "--------------------------\n",
      "recall[Female speech, woman speaking] : 0.515984\n",
      "recall[Male speech, man speaking] : 0.918997\n",
      "recall[Clapping] : 0.405797\n",
      "recall[Telephone] : 0.316456\n",
      "recall[Laughter] : 0.441624\n",
      "recall[Domestic sounds] : 0.806452\n",
      "recall[Walk, footsteps] : 0.121739\n",
      "recall[Door, open or close] : 0.294118\n",
      "recall[Music] : 0.846667\n",
      "recall[Musical instrument] : 0.283117\n",
      "recall[Water tap, faucet] : 0.000000\n",
      "recall[Bell] : 0.380488\n",
      "recall[Knock] : 0.177419\n"
     ]
    },
    {
     "name": "stderr",
     "output_type": "stream",
     "text": [
      "\n"
     ]
    }
   ],
   "source": [
    "eval_model(\"ER616_Real\")"
   ]
  },
  {
   "cell_type": "code",
   "execution_count": 412,
   "id": "0c051d9a-0259-4bda-b994-fd77532f5c80",
   "metadata": {},
   "outputs": [
    {
     "name": "stderr",
     "output_type": "stream",
     "text": [
      "100%|███████████████████████████████████████████████| 52/52 [00:20<00:00,  2.56it/s]"
     ]
    },
    {
     "name": "stdout",
     "output_type": "stream",
     "text": [
      "616_postprocess\n",
      "n_target : 52\n",
      "f1-score 0.702\n",
      "accuracy 0.590\n",
      "recall   0.730\n",
      "max f1 1.000 at /home/data/kbh/DCASE_eval/eval_label/mix036.csv\n",
      "min f1 0.227 at /home/data/kbh/DCASE_eval/eval_label/mix018.csv\n",
      "--------------------------\n",
      "f1[Female speech, woman speaking] : 0.700055\n",
      "f1[Male speech, man speaking] : 0.786203\n",
      "f1[Clapping] : 0.478632\n",
      "f1[Telephone] : 0.427350\n",
      "f1[Laughter] : 0.467337\n",
      "f1[Domestic sounds] : 0.714605\n",
      "f1[Walk, footsteps] : 0.204380\n",
      "f1[Door, open or close] : 0.322581\n",
      "f1[Music] : 0.715090\n",
      "f1[Musical instrument] : 0.363309\n",
      "f1[Water tap, faucet] : 0.000000\n",
      "f1[Bell] : 0.498403\n",
      "f1[Knock] : 0.171429\n",
      "--------------------------\n",
      "acc[Female speech, woman speaking] : 0.617906\n",
      "acc[Male speech, man speaking] : 0.686846\n",
      "acc[Clapping] : 0.894281\n",
      "acc[Telephone] : 0.884483\n",
      "acc[Laughter] : 0.732661\n",
      "acc[Domestic sounds] : 0.668396\n",
      "acc[Walk, footsteps] : 0.702997\n",
      "acc[Door, open or close] : 0.922222\n",
      "acc[Music] : 0.634657\n",
      "acc[Musical instrument] : 0.624602\n",
      "acc[Water tap, faucet] : 0.845754\n",
      "acc[Bell] : 0.782849\n",
      "acc[Knock] : 0.894928\n",
      "--------------------------\n",
      "recall[Female speech, woman speaking] : 0.633768\n",
      "recall[Male speech, man speaking] : 0.918997\n",
      "recall[Clapping] : 0.405797\n",
      "recall[Telephone] : 0.316456\n",
      "recall[Laughter] : 0.474490\n",
      "recall[Domestic sounds] : 0.806452\n",
      "recall[Walk, footsteps] : 0.121739\n",
      "recall[Door, open or close] : 0.294118\n",
      "recall[Music] : 0.846667\n",
      "recall[Musical instrument] : 0.262338\n",
      "recall[Water tap, faucet] : 0.000000\n",
      "recall[Bell] : 0.380488\n",
      "recall[Knock] : 0.096774\n"
     ]
    },
    {
     "name": "stderr",
     "output_type": "stream",
     "text": [
      "\n"
     ]
    }
   ],
   "source": [
    "eval_model(\"616_postprocess\")"
   ]
  },
  {
   "cell_type": "code",
   "execution_count": 415,
   "id": "2f44de7a-d737-4a80-9223-dc6cef9bb500",
   "metadata": {},
   "outputs": [
    {
     "name": "stderr",
     "output_type": "stream",
     "text": [
      "100%|███████████████████████████████████████████████| 52/52 [00:19<00:00,  2.71it/s]"
     ]
    },
    {
     "name": "stdout",
     "output_type": "stream",
     "text": [
      "ER615_real\n",
      "n_target : 52\n",
      "f1-score 0.686\n",
      "accuracy 0.582\n",
      "recall   0.682\n",
      "max f1 1.000 at /home/data/kbh/DCASE_eval/eval_label/mix036.csv\n",
      "min f1 0.138 at /home/data/kbh/DCASE_eval/eval_label/mix020.csv\n",
      "--------------------------\n",
      "f1[Female speech, woman speaking] : 0.587963\n",
      "f1[Male speech, man speaking] : 0.777210\n",
      "f1[Clapping] : 0.597015\n",
      "f1[Telephone] : 0.432000\n",
      "f1[Laughter] : 0.397820\n",
      "f1[Domestic sounds] : 0.684355\n",
      "f1[Walk, footsteps] : 0.277966\n",
      "f1[Door, open or close] : 0.140845\n",
      "f1[Music] : 0.776935\n",
      "f1[Musical instrument] : 0.293548\n",
      "f1[Water tap, faucet] : 0.000000\n",
      "f1[Bell] : 0.686016\n",
      "f1[Knock] : 0.200000\n",
      "--------------------------\n",
      "acc[Female speech, woman speaking] : 0.530343\n",
      "acc[Male speech, man speaking] : 0.677860\n",
      "acc[Clapping] : 0.911765\n",
      "acc[Telephone] : 0.884740\n",
      "acc[Laughter] : 0.727833\n",
      "acc[Domestic sounds] : 0.647239\n",
      "acc[Walk, footsteps] : 0.724093\n",
      "acc[Door, open or close] : 0.895548\n",
      "acc[Music] : 0.709830\n",
      "acc[Musical instrument] : 0.581662\n",
      "acc[Water tap, faucet] : 0.853377\n",
      "acc[Bell] : 0.844850\n",
      "acc[Knock] : 0.903614\n",
      "--------------------------\n",
      "recall[Female speech, woman speaking] : 0.444056\n",
      "recall[Male speech, man speaking] : 0.911071\n",
      "recall[Clapping] : 0.579710\n",
      "recall[Telephone] : 0.341772\n",
      "recall[Laughter] : 0.370558\n",
      "recall[Domestic sounds] : 0.754032\n",
      "recall[Walk, footsteps] : 0.178261\n",
      "recall[Door, open or close] : 0.147059\n",
      "recall[Music] : 0.853333\n",
      "recall[Musical instrument] : 0.236364\n",
      "recall[Water tap, faucet] : 0.000000\n",
      "recall[Bell] : 0.634146\n",
      "recall[Knock] : 0.112903\n"
     ]
    },
    {
     "name": "stderr",
     "output_type": "stream",
     "text": [
      "\n"
     ]
    }
   ],
   "source": [
    "eval_model(\"ER615_real\")"
   ]
  },
  {
   "cell_type": "code",
   "execution_count": 416,
   "id": "3b57c925-f155-49fe-8152-30464855a796",
   "metadata": {},
   "outputs": [
    {
     "name": "stderr",
     "output_type": "stream",
     "text": [
      "100%|███████████████████████████████████████████████| 52/52 [00:21<00:00,  2.45it/s]"
     ]
    },
    {
     "name": "stdout",
     "output_type": "stream",
     "text": [
      "616 postprocess_v2\n",
      "n_target : 52\n",
      "f1-score 0.705\n",
      "accuracy 0.592\n",
      "recall   0.739\n",
      "max f1 1.000 at /home/data/kbh/DCASE_eval/eval_label/mix036.csv\n",
      "min f1 0.246 at /home/data/kbh/DCASE_eval/eval_label/mix041.csv\n",
      "--------------------------\n",
      "f1[Female speech, woman speaking] : 0.700055\n",
      "f1[Male speech, man speaking] : 0.786203\n",
      "f1[Clapping] : 0.478632\n",
      "f1[Telephone] : 0.427350\n",
      "f1[Laughter] : 0.467337\n",
      "f1[Domestic sounds] : 0.710425\n",
      "f1[Walk, footsteps] : 0.204380\n",
      "f1[Door, open or close] : 0.322581\n",
      "f1[Music] : 0.715090\n",
      "f1[Musical instrument] : 0.363309\n",
      "f1[Water tap, faucet] : 0.000000\n",
      "f1[Bell] : 0.626703\n",
      "f1[Knock] : 0.171429\n",
      "--------------------------\n",
      "acc[Female speech, woman speaking] : 0.616283\n",
      "acc[Male speech, man speaking] : 0.685988\n",
      "acc[Clapping] : 0.892035\n",
      "acc[Telephone] : 0.882042\n",
      "acc[Laughter] : 0.728553\n",
      "acc[Domestic sounds] : 0.658919\n",
      "acc[Walk, footsteps] : 0.698061\n",
      "acc[Door, open or close] : 0.920455\n",
      "acc[Music] : 0.633067\n",
      "acc[Musical instrument] : 0.619764\n",
      "acc[Water tap, faucet] : 0.842478\n",
      "acc[Bell] : 0.811813\n",
      "acc[Knock] : 0.892593\n",
      "--------------------------\n",
      "recall[Female speech, woman speaking] : 0.633768\n",
      "recall[Male speech, man speaking] : 0.918997\n",
      "recall[Clapping] : 0.405797\n",
      "recall[Telephone] : 0.316456\n",
      "recall[Laughter] : 0.474490\n",
      "recall[Domestic sounds] : 0.834677\n",
      "recall[Walk, footsteps] : 0.121739\n",
      "recall[Door, open or close] : 0.294118\n",
      "recall[Music] : 0.846667\n",
      "recall[Musical instrument] : 0.262338\n",
      "recall[Water tap, faucet] : 0.000000\n",
      "recall[Bell] : 0.560976\n",
      "recall[Knock] : 0.096774\n"
     ]
    },
    {
     "name": "stderr",
     "output_type": "stream",
     "text": [
      "\n"
     ]
    }
   ],
   "source": [
    "eval_model(\"616 postprocess_v2\")"
   ]
  },
  {
   "cell_type": "code",
   "execution_count": 417,
   "id": "9173f922-1862-4835-a909-5a489ef1510e",
   "metadata": {},
   "outputs": [
    {
     "name": "stderr",
     "output_type": "stream",
     "text": [
      " 73%|██████████████████████████████████▎            | 38/52 [00:16<00:06,  2.08it/s]"
     ]
    },
    {
     "name": "stdout",
     "output_type": "stream",
     "text": [
      "mix052 sub[61] more than 5 soruce\n"
     ]
    },
    {
     "name": "stderr",
     "output_type": "stream",
     "text": [
      "100%|███████████████████████████████████████████████| 52/52 [00:21<00:00,  2.43it/s]"
     ]
    },
    {
     "name": "stdout",
     "output_type": "stream",
     "text": [
      "615_postprocess_v1\n",
      "n_target : 52\n",
      "f1-score 0.703\n",
      "accuracy 0.593\n",
      "recall   0.737\n",
      "max f1 1.000 at /home/data/kbh/DCASE_eval/eval_label/mix036.csv\n",
      "min f1 0.202 at /home/data/kbh/DCASE_eval/eval_label/mix018.csv\n",
      "--------------------------\n",
      "f1[Female speech, woman speaking] : 0.695264\n",
      "f1[Male speech, man speaking] : 0.777210\n",
      "f1[Clapping] : 0.600000\n",
      "f1[Telephone] : 0.432000\n",
      "f1[Laughter] : 0.393443\n",
      "f1[Domestic sounds] : 0.684355\n",
      "f1[Walk, footsteps] : 0.359897\n",
      "f1[Door, open or close] : 0.139535\n",
      "f1[Music] : 0.776935\n",
      "f1[Musical instrument] : 0.273077\n",
      "f1[Water tap, faucet] : 0.000000\n",
      "f1[Bell] : 0.686016\n",
      "f1[Knock] : 0.202899\n",
      "--------------------------\n",
      "acc[Female speech, woman speaking] : 0.608474\n",
      "acc[Male speech, man speaking] : 0.677137\n",
      "acc[Clapping] : 0.913189\n",
      "acc[Telephone] : 0.882838\n",
      "acc[Laughter] : 0.723192\n",
      "acc[Domestic sounds] : 0.645427\n",
      "acc[Walk, footsteps] : 0.698912\n",
      "acc[Door, open or close] : 0.932482\n",
      "acc[Music] : 0.708680\n",
      "acc[Musical instrument] : 0.605016\n",
      "acc[Water tap, faucet] : 0.850921\n",
      "acc[Bell] : 0.842801\n",
      "acc[Knock] : 0.903509\n",
      "--------------------------\n",
      "recall[Female speech, woman speaking] : 0.702757\n",
      "recall[Male speech, man speaking] : 0.911071\n",
      "recall[Clapping] : 0.565217\n",
      "recall[Telephone] : 0.341772\n",
      "recall[Laughter] : 0.365482\n",
      "recall[Domestic sounds] : 0.754032\n",
      "recall[Walk, footsteps] : 0.304348\n",
      "recall[Door, open or close] : 0.088235\n",
      "recall[Music] : 0.853333\n",
      "recall[Musical instrument] : 0.184416\n",
      "recall[Water tap, faucet] : 0.000000\n",
      "recall[Bell] : 0.634146\n",
      "recall[Knock] : 0.112903\n"
     ]
    },
    {
     "name": "stderr",
     "output_type": "stream",
     "text": [
      "\n"
     ]
    }
   ],
   "source": [
    "eval_model(\"615_postprocess_v1\")"
   ]
  },
  {
   "cell_type": "code",
   "execution_count": 418,
   "id": "644b0aef-ffc0-4674-bad4-6e196593ca18",
   "metadata": {},
   "outputs": [
    {
     "name": "stderr",
     "output_type": "stream",
     "text": [
      " 73%|██████████████████████████████████▎            | 38/52 [00:17<00:06,  2.02it/s]"
     ]
    },
    {
     "name": "stdout",
     "output_type": "stream",
     "text": [
      "mix052 sub[61] more than 5 soruce\n"
     ]
    },
    {
     "name": "stderr",
     "output_type": "stream",
     "text": [
      "100%|███████████████████████████████████████████████| 52/52 [00:21<00:00,  2.40it/s]"
     ]
    },
    {
     "name": "stdout",
     "output_type": "stream",
     "text": [
      "615_v2\n",
      "n_target : 52\n",
      "f1-score 0.704\n",
      "accuracy 0.593\n",
      "recall   0.741\n",
      "max f1 1.000 at /home/data/kbh/DCASE_eval/eval_label/mix036.csv\n",
      "min f1 0.202 at /home/data/kbh/DCASE_eval/eval_label/mix018.csv\n",
      "--------------------------\n",
      "f1[Female speech, woman speaking] : 0.695264\n",
      "f1[Male speech, man speaking] : 0.777210\n",
      "f1[Clapping] : 0.600000\n",
      "f1[Telephone] : 0.432000\n",
      "f1[Laughter] : 0.393443\n",
      "f1[Domestic sounds] : 0.684355\n",
      "f1[Walk, footsteps] : 0.359897\n",
      "f1[Door, open or close] : 0.139535\n",
      "f1[Music] : 0.776935\n",
      "f1[Musical instrument] : 0.273077\n",
      "f1[Water tap, faucet] : 0.000000\n",
      "f1[Bell] : 0.707965\n",
      "f1[Knock] : 0.202899\n",
      "--------------------------\n",
      "acc[Female speech, woman speaking] : 0.608474\n",
      "acc[Male speech, man speaking] : 0.677137\n",
      "acc[Clapping] : 0.913189\n",
      "acc[Telephone] : 0.882838\n",
      "acc[Laughter] : 0.723192\n",
      "acc[Domestic sounds] : 0.645427\n",
      "acc[Walk, footsteps] : 0.698912\n",
      "acc[Door, open or close] : 0.932482\n",
      "acc[Music] : 0.708680\n",
      "acc[Musical instrument] : 0.605016\n",
      "acc[Water tap, faucet] : 0.850921\n",
      "acc[Bell] : 0.835000\n",
      "acc[Knock] : 0.903509\n",
      "--------------------------\n",
      "recall[Female speech, woman speaking] : 0.702757\n",
      "recall[Male speech, man speaking] : 0.911071\n",
      "recall[Clapping] : 0.565217\n",
      "recall[Telephone] : 0.341772\n",
      "recall[Laughter] : 0.365482\n",
      "recall[Domestic sounds] : 0.754032\n",
      "recall[Walk, footsteps] : 0.304348\n",
      "recall[Door, open or close] : 0.088235\n",
      "recall[Music] : 0.853333\n",
      "recall[Musical instrument] : 0.184416\n",
      "recall[Water tap, faucet] : 0.000000\n",
      "recall[Bell] : 0.780488\n",
      "recall[Knock] : 0.112903\n"
     ]
    },
    {
     "name": "stderr",
     "output_type": "stream",
     "text": [
      "\n"
     ]
    }
   ],
   "source": [
    "eval_model(\"615_v2\")"
   ]
  },
  {
   "cell_type": "code",
   "execution_count": null,
   "id": "358b39fb-21f2-42e8-a665-1ee91e00b824",
   "metadata": {},
   "outputs": [],
   "source": []
  }
 ],
 "metadata": {
  "kernelspec": {
   "display_name": "Python 3 (ipykernel)",
   "language": "python",
   "name": "python3"
  },
  "language_info": {
   "codemirror_mode": {
    "name": "ipython",
    "version": 3
   },
   "file_extension": ".py",
   "mimetype": "text/x-python",
   "name": "python",
   "nbconvert_exporter": "python",
   "pygments_lexer": "ipython3",
   "version": "3.9.0"
  }
 },
 "nbformat": 4,
 "nbformat_minor": 5
}
