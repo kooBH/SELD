{
 "cells": [
  {
   "cell_type": "code",
   "execution_count": 4,
   "id": "5e7dc6b4-1721-4357-923f-b75eb38d3365",
   "metadata": {},
   "outputs": [],
   "source": [
    "import torch.nn as nn"
   ]
  },
  {
   "cell_type": "code",
   "execution_count": 5,
   "id": "9972e3c0-365f-4d99-a301-bd8df29f318a",
   "metadata": {},
   "outputs": [],
   "source": []
  },
  {
   "cell_type": "code",
   "execution_count": 26,
   "id": "b95b6636-a1a2-48ef-9e86-34b43152c564",
   "metadata": {},
   "outputs": [
    {
     "name": "stdout",
     "output_type": "stream",
     "text": [
      "tensor([0., 1., 0., 1.])\n",
      "tensor([0.0431, 0.9733, 0.1371, 0.3183])\n"
     ]
    },
    {
     "data": {
      "text/plain": [
       "tensor(0.1215)"
      ]
     },
     "execution_count": 26,
     "metadata": {},
     "output_type": "execute_result"
    }
   ],
   "source": [
    "c = nn.MSELoss(reduction='none')\n",
    "c = nn.MSELoss()\n",
    "i = torch.zeros(4)\n",
    "o = torch.rand(4)\n",
    "\n",
    "i[1]=1\n",
    "i[3]=1\n",
    "\n",
    "print(i)\n",
    "print(o)\n",
    "\n",
    "c(i,o)"
   ]
  },
  {
   "cell_type": "code",
   "execution_count": null,
   "id": "7328b333-092c-417d-babc-136cd5fbbdee",
   "metadata": {},
   "outputs": [],
   "source": []
  },
  {
   "cell_type": "code",
   "execution_count": 27,
   "id": "249d2d33-89e8-4271-9833-44d9f4f2bf8c",
   "metadata": {},
   "outputs": [],
   "source": [
    "import librosa\n",
    "import numpy as np"
   ]
  },
  {
   "cell_type": "code",
   "execution_count": 28,
   "id": "760b7140-74a1-4734-8730-81c8dfb8120e",
   "metadata": {},
   "outputs": [],
   "source": [
    "x = np.random.rand(16000)"
   ]
  },
  {
   "cell_type": "code",
   "execution_count": 32,
   "id": "42ef5ceb-2ace-43ab-97bd-f13a2ae5b9d7",
   "metadata": {},
   "outputs": [
    {
     "data": {
      "text/plain": [
       "(513, 63)"
      ]
     },
     "execution_count": 32,
     "metadata": {},
     "output_type": "execute_result"
    }
   ],
   "source": [
    "y = librosa.stft(x,n_fft=1024,center=True)\n",
    "y.shape"
   ]
  },
  {
   "cell_type": "code",
   "execution_count": 33,
   "id": "e90ac584-d7ba-4f5e-b144-32d009ba747e",
   "metadata": {},
   "outputs": [
    {
     "data": {
      "text/plain": [
       "62.5"
      ]
     },
     "execution_count": 33,
     "metadata": {},
     "output_type": "execute_result"
    }
   ],
   "source": [
    "16000/256"
   ]
  },
  {
   "cell_type": "code",
   "execution_count": 38,
   "id": "9bd36b42-939a-421a-9f5b-852614fdbb30",
   "metadata": {},
   "outputs": [
    {
     "data": {
      "text/plain": [
       "3"
      ]
     },
     "execution_count": 38,
     "metadata": {},
     "output_type": "execute_result"
    }
   ],
   "source": [
    "torch.tensor(3).item()"
   ]
  },
  {
   "cell_type": "code",
   "execution_count": null,
   "id": "fe0ec3ff-c853-4238-8322-578ed68c1c8c",
   "metadata": {},
   "outputs": [],
   "source": []
  }
 ],
 "metadata": {
  "kernelspec": {
   "display_name": "Python 3 (ipykernel)",
   "language": "python",
   "name": "python3"
  },
  "language_info": {
   "codemirror_mode": {
    "name": "ipython",
    "version": 3
   },
   "file_extension": ".py",
   "mimetype": "text/x-python",
   "name": "python",
   "nbconvert_exporter": "python",
   "pygments_lexer": "ipython3",
   "version": "3.9.0"
  }
 },
 "nbformat": 4,
 "nbformat_minor": 5
}
