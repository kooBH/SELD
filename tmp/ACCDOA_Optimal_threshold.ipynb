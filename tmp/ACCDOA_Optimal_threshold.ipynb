{
 "cells": [
  {
   "cell_type": "code",
   "execution_count": 1,
   "id": "148f95d8-fc48-4255-ad30-4bd69430386a",
   "metadata": {},
   "outputs": [],
   "source": [
    "import pandas as pd\n",
    "import numpy as np\n",
    "import os, glob\n",
    "from tqdm import tqdm"
   ]
  },
  {
   "cell_type": "code",
   "execution_count": null,
   "id": "bb69f61d-cb70-4d63-8955-7247f0e6ea3f",
   "metadata": {},
   "outputs": [],
   "source": [
    "dir_detail = \"/home/data/kbh/DCASE2022/out/detail/\"\n",
    "dir_label = \"/home/data/kbh/DCASE2022_SELD_dataset/label_dev/\"\n",
    "list_detail = [x for x in glob.glo(os.path.join(dir_detail,\"*.csv\"))]"
   ]
  },
  {
   "cell_type": "code",
   "execution_count": 25,
   "id": "3f728179-d9a8-4dd9-ae1c-bfc8004893bb",
   "metadata": {},
   "outputs": [],
   "source": [
    "path_detail = \"/home/data/kbh/DCASE2022/out/detail/fold4_room23_mix012.csv\"\n",
    "path_label  = \"/home/data/kbh/DCASE2022_SELD_dataset/metadata_dev/dev-test-sony/fold4_room23_mix012.csv\""
   ]
  },
  {
   "cell_type": "code",
   "execution_count": 32,
   "id": "357348f8-d419-4f06-a9ed-cdf47c3985d5",
   "metadata": {},
   "outputs": [
    {
     "data": {
      "text/html": [
       "<div>\n",
       "<style scoped>\n",
       "    .dataframe tbody tr th:only-of-type {\n",
       "        vertical-align: middle;\n",
       "    }\n",
       "\n",
       "    .dataframe tbody tr th {\n",
       "        vertical-align: top;\n",
       "    }\n",
       "\n",
       "    .dataframe thead th {\n",
       "        text-align: right;\n",
       "    }\n",
       "</style>\n",
       "<table border=\"1\" class=\"dataframe\">\n",
       "  <thead>\n",
       "    <tr style=\"text-align: right;\">\n",
       "      <th></th>\n",
       "      <th>idx</th>\n",
       "      <th>class</th>\n",
       "      <th>azimuth</th>\n",
       "      <th>elevation</th>\n",
       "      <th>0</th>\n",
       "      <th>1</th>\n",
       "      <th>2</th>\n",
       "      <th>3</th>\n",
       "      <th>4</th>\n",
       "      <th>5</th>\n",
       "      <th>6</th>\n",
       "      <th>7</th>\n",
       "      <th>8</th>\n",
       "      <th>9</th>\n",
       "      <th>10</th>\n",
       "      <th>11</th>\n",
       "      <th>12</th>\n",
       "    </tr>\n",
       "  </thead>\n",
       "  <tbody>\n",
       "    <tr>\n",
       "      <th>0</th>\n",
       "      <td>0.0</td>\n",
       "      <td>0.0</td>\n",
       "      <td>0.0</td>\n",
       "      <td>0.0</td>\n",
       "      <td>0.014628</td>\n",
       "      <td>0.085364</td>\n",
       "      <td>0.008011</td>\n",
       "      <td>0.011442</td>\n",
       "      <td>0.014372</td>\n",
       "      <td>0.102064</td>\n",
       "      <td>0.006106</td>\n",
       "      <td>0.005383</td>\n",
       "      <td>0.183578</td>\n",
       "      <td>0.007581</td>\n",
       "      <td>0.019193</td>\n",
       "      <td>0.028333</td>\n",
       "      <td>0.012375</td>\n",
       "    </tr>\n",
       "    <tr>\n",
       "      <th>1</th>\n",
       "      <td>1.0</td>\n",
       "      <td>0.0</td>\n",
       "      <td>0.0</td>\n",
       "      <td>0.0</td>\n",
       "      <td>0.014574</td>\n",
       "      <td>0.085260</td>\n",
       "      <td>0.008011</td>\n",
       "      <td>0.011446</td>\n",
       "      <td>0.014368</td>\n",
       "      <td>0.102000</td>\n",
       "      <td>0.006121</td>\n",
       "      <td>0.005378</td>\n",
       "      <td>0.183396</td>\n",
       "      <td>0.007581</td>\n",
       "      <td>0.019194</td>\n",
       "      <td>0.028332</td>\n",
       "      <td>0.012353</td>\n",
       "    </tr>\n",
       "    <tr>\n",
       "      <th>2</th>\n",
       "      <td>2.0</td>\n",
       "      <td>0.0</td>\n",
       "      <td>0.0</td>\n",
       "      <td>0.0</td>\n",
       "      <td>0.014570</td>\n",
       "      <td>0.085245</td>\n",
       "      <td>0.008013</td>\n",
       "      <td>0.011447</td>\n",
       "      <td>0.014367</td>\n",
       "      <td>0.101992</td>\n",
       "      <td>0.006122</td>\n",
       "      <td>0.005375</td>\n",
       "      <td>0.183374</td>\n",
       "      <td>0.007582</td>\n",
       "      <td>0.019195</td>\n",
       "      <td>0.028331</td>\n",
       "      <td>0.012349</td>\n",
       "    </tr>\n",
       "    <tr>\n",
       "      <th>3</th>\n",
       "      <td>3.0</td>\n",
       "      <td>0.0</td>\n",
       "      <td>0.0</td>\n",
       "      <td>0.0</td>\n",
       "      <td>0.014571</td>\n",
       "      <td>0.085249</td>\n",
       "      <td>0.008014</td>\n",
       "      <td>0.011447</td>\n",
       "      <td>0.014368</td>\n",
       "      <td>0.101995</td>\n",
       "      <td>0.006123</td>\n",
       "      <td>0.005375</td>\n",
       "      <td>0.183378</td>\n",
       "      <td>0.007581</td>\n",
       "      <td>0.019195</td>\n",
       "      <td>0.028332</td>\n",
       "      <td>0.012349</td>\n",
       "    </tr>\n",
       "    <tr>\n",
       "      <th>4</th>\n",
       "      <td>4.0</td>\n",
       "      <td>0.0</td>\n",
       "      <td>0.0</td>\n",
       "      <td>0.0</td>\n",
       "      <td>0.014574</td>\n",
       "      <td>0.085259</td>\n",
       "      <td>0.008013</td>\n",
       "      <td>0.011446</td>\n",
       "      <td>0.014369</td>\n",
       "      <td>0.102001</td>\n",
       "      <td>0.006122</td>\n",
       "      <td>0.005377</td>\n",
       "      <td>0.183393</td>\n",
       "      <td>0.007581</td>\n",
       "      <td>0.019194</td>\n",
       "      <td>0.028332</td>\n",
       "      <td>0.012350</td>\n",
       "    </tr>\n",
       "  </tbody>\n",
       "</table>\n",
       "</div>"
      ],
      "text/plain": [
       "   idx  class  azimuth  elevation         0         1         2         3  \\\n",
       "0  0.0    0.0      0.0        0.0  0.014628  0.085364  0.008011  0.011442   \n",
       "1  1.0    0.0      0.0        0.0  0.014574  0.085260  0.008011  0.011446   \n",
       "2  2.0    0.0      0.0        0.0  0.014570  0.085245  0.008013  0.011447   \n",
       "3  3.0    0.0      0.0        0.0  0.014571  0.085249  0.008014  0.011447   \n",
       "4  4.0    0.0      0.0        0.0  0.014574  0.085259  0.008013  0.011446   \n",
       "\n",
       "          4         5         6         7         8         9        10  \\\n",
       "0  0.014372  0.102064  0.006106  0.005383  0.183578  0.007581  0.019193   \n",
       "1  0.014368  0.102000  0.006121  0.005378  0.183396  0.007581  0.019194   \n",
       "2  0.014367  0.101992  0.006122  0.005375  0.183374  0.007582  0.019195   \n",
       "3  0.014368  0.101995  0.006123  0.005375  0.183378  0.007581  0.019195   \n",
       "4  0.014369  0.102001  0.006122  0.005377  0.183393  0.007581  0.019194   \n",
       "\n",
       "         11        12  \n",
       "0  0.028333  0.012375  \n",
       "1  0.028332  0.012353  \n",
       "2  0.028331  0.012349  \n",
       "3  0.028332  0.012349  \n",
       "4  0.028332  0.012350  "
      ]
     },
     "metadata": {},
     "output_type": "display_data"
    },
    {
     "data": {
      "text/html": [
       "<div>\n",
       "<style scoped>\n",
       "    .dataframe tbody tr th:only-of-type {\n",
       "        vertical-align: middle;\n",
       "    }\n",
       "\n",
       "    .dataframe tbody tr th {\n",
       "        vertical-align: top;\n",
       "    }\n",
       "\n",
       "    .dataframe thead th {\n",
       "        text-align: right;\n",
       "    }\n",
       "</style>\n",
       "<table border=\"1\" class=\"dataframe\">\n",
       "  <thead>\n",
       "    <tr style=\"text-align: right;\">\n",
       "      <th></th>\n",
       "      <th>idx</th>\n",
       "      <th>class</th>\n",
       "      <th>order</th>\n",
       "      <th>azimuth</th>\n",
       "      <th>elevation</th>\n",
       "    </tr>\n",
       "  </thead>\n",
       "  <tbody>\n",
       "    <tr>\n",
       "      <th>0</th>\n",
       "      <td>7</td>\n",
       "      <td>5</td>\n",
       "      <td>0</td>\n",
       "      <td>17</td>\n",
       "      <td>-9</td>\n",
       "    </tr>\n",
       "    <tr>\n",
       "      <th>1</th>\n",
       "      <td>8</td>\n",
       "      <td>5</td>\n",
       "      <td>0</td>\n",
       "      <td>18</td>\n",
       "      <td>-9</td>\n",
       "    </tr>\n",
       "    <tr>\n",
       "      <th>2</th>\n",
       "      <td>9</td>\n",
       "      <td>5</td>\n",
       "      <td>0</td>\n",
       "      <td>18</td>\n",
       "      <td>-10</td>\n",
       "    </tr>\n",
       "    <tr>\n",
       "      <th>3</th>\n",
       "      <td>10</td>\n",
       "      <td>5</td>\n",
       "      <td>0</td>\n",
       "      <td>18</td>\n",
       "      <td>-10</td>\n",
       "    </tr>\n",
       "    <tr>\n",
       "      <th>4</th>\n",
       "      <td>11</td>\n",
       "      <td>5</td>\n",
       "      <td>0</td>\n",
       "      <td>18</td>\n",
       "      <td>-10</td>\n",
       "    </tr>\n",
       "  </tbody>\n",
       "</table>\n",
       "</div>"
      ],
      "text/plain": [
       "   idx  class  order  azimuth  elevation\n",
       "0    7      5      0       17         -9\n",
       "1    8      5      0       18         -9\n",
       "2    9      5      0       18        -10\n",
       "3   10      5      0       18        -10\n",
       "4   11      5      0       18        -10"
      ]
     },
     "metadata": {},
     "output_type": "display_data"
    },
    {
     "data": {
      "text/plain": [
       "950"
      ]
     },
     "metadata": {},
     "output_type": "display_data"
    },
    {
     "data": {
      "text/plain": [
       "1053"
      ]
     },
     "metadata": {},
     "output_type": "display_data"
    }
   ],
   "source": [
    "df_detail = pd.read_csv(path_detail,names=[\"idx\",\"class\",\"azimuth\",\"elevation\",\"0\",\"1\",\"2\",\"3\",\"4\",\"5\",\"6\",\"7\",\"8\",\"9\",\"10\",\"11\",\"12\"])\n",
    "df_label = pd.read_csv(path_label,names=[\"idx\",\"class\",\"order\",\"azimuth\",\"elevation\"])\n",
    "\n",
    "display(df_detail.head())\n",
    "display(df_label.head())\n",
    "\n",
    "display(len(df_detail.index))\n",
    "display(len(df_label.index))"
   ]
  },
  {
   "cell_type": "code",
   "execution_count": 2,
   "id": "3491fa3d-2d16-4c5e-bb3c-a36934cc1332",
   "metadata": {},
   "outputs": [
    {
     "name": "stderr",
     "output_type": "stream",
     "text": [
      "100%|██████████████████████████████████████████████████████████████████| 54/54 [50:27<00:00, 56.07s/it]\n"
     ]
    },
    {
     "data": {
      "text/plain": [
       "'max_p : [1.30797994 1.0991199  0.07004379 0.06420011 1.00345004 1.1862365\\n 0.43430012 0.06851598 1.29570377 0.64693254 0.2945846  0.10145231\\n 0.07381161]'"
      ]
     },
     "metadata": {},
     "output_type": "display_data"
    },
    {
     "data": {
      "text/plain": [
       "'min_p : [0.         0.         0.         0.         0.         0.\\n 0.         0.         0.         0.         0.         0.\\n 0.02886374]'"
      ]
     },
     "metadata": {},
     "output_type": "display_data"
    },
    {
     "data": {
      "text/plain": [
       "'mean_p : [0.20534038 0.28904329 0.02025443 0.02954912 0.17923919 0.78315296\\n 0.07623596 0.01678401 0.15299674 0.22539169 0.08937218 0.04227332\\n 0.05280627]'"
      ]
     },
     "metadata": {},
     "output_type": "display_data"
    },
    {
     "data": {
      "text/plain": [
       "'cnt_p : [2.399870e+06 4.695108e+06 7.719900e+04 5.221200e+04 5.161770e+05\\n 2.558966e+06 1.942000e+04 9.018000e+03 6.928930e+06 2.450895e+06\\n 3.027490e+05 3.098620e+05 3.220000e+02]'"
      ]
     },
     "metadata": {},
     "output_type": "display_data"
    }
   ],
   "source": [
    "dir_detail = \"/home/data2/kbh/DCASE2022/out/d0_v6/detail/\"\n",
    "dir_label = \"/home/data2/kbh/DCASE2022/dev_label/\"\n",
    "list_detail = [x for x in glob.glob(os.path.join(dir_detail,\"*.csv\"))]\n",
    "\n",
    "\n",
    "max_p = np.zeros(13)\n",
    "min_p = np.zeros(13)\n",
    "min_p[:] = 1.0\n",
    "\n",
    "sum_p = np.zeros(13)\n",
    "cnt_p = np.zeros(13) \n",
    "bool_p = np.zeros(13)\n",
    "\n",
    "for path in tqdm(list_detail) : \n",
    "    df_detail = pd.read_csv(path,names=[\"idx\",\"class\",\"azimuth\",\"elevation\",\"0\",\"1\",\"2\",\"3\",\"4\",\"5\",\"6\",\"7\",\"8\",\"9\",\"10\",\"11\",\"12\"])\n",
    "    name_df = path.split('/')[-1]\n",
    "    id_df = name_df.split('.')[0]\n",
    "    df_label = pd.read_csv(os.path.join(dir_label,id_df+\".csv\"),names=[\"idx\",\"class\",\"order\",\"azimuth\",\"elevation\"])\n",
    "    \n",
    "    last_idx = 0\n",
    "    for i in df_detail.index :\n",
    "        idx_detail = int(df_detail.iloc[i][0])\n",
    "\n",
    "        # sampe time frame\n",
    "        for j in range(last_idx, len(df_label.index)) :  \n",
    "            idx_label = df_label.iloc[j][0]\n",
    "            last_idx = idx_label           \n",
    "\n",
    "            cat_label = df_label.iloc[j][1]\n",
    "\n",
    "            # max \n",
    "            prob = df_detail.iloc[i][4+cat_label]\n",
    "            if max_p[cat_label] < prob :\n",
    "                max_p[cat_label] = prob\n",
    "\n",
    "            if min_p[cat_label] > prob :\n",
    "                min_p[cat_label] = prob\n",
    "\n",
    "            sum_p[cat_label] += prob\n",
    "            cnt_p[cat_label] += 1\n",
    "\n",
    "            bool_p[cat_label]=1\n",
    "\n",
    "\n",
    "            if idx_label > idx_detail :\n",
    "                break\n",
    "            \n",
    "#display(\"bool_p : {}\".format(bool_p))\n",
    "display(\"max_p : {}\".format(max_p))\n",
    "display(\"min_p : {}\".format(min_p))\n",
    "display(\"mean_p : {}\".format(sum_p/(cnt_p+1e-17)))\n",
    "display(\"cnt_p : {}\".format(cnt_p))"
   ]
  },
  {
   "cell_type": "code",
   "execution_count": null,
   "id": "63aadc2c-942f-476d-b6b0-50f5701a4a68",
   "metadata": {},
   "outputs": [],
   "source": []
  }
 ],
 "metadata": {
  "kernelspec": {
   "display_name": "Python 3 (ipykernel)",
   "language": "python",
   "name": "python3"
  },
  "language_info": {
   "codemirror_mode": {
    "name": "ipython",
    "version": 3
   },
   "file_extension": ".py",
   "mimetype": "text/x-python",
   "name": "python",
   "nbconvert_exporter": "python",
   "pygments_lexer": "ipython3",
   "version": "3.9.0"
  }
 },
 "nbformat": 4,
 "nbformat_minor": 5
}
