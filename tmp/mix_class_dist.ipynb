{
 "cells": [
  {
   "cell_type": "code",
   "execution_count": 5,
   "id": "06000a34-13d3-4396-ac0a-de43332afaa1",
   "metadata": {},
   "outputs": [],
   "source": [
    "import numpy as np"
   ]
  },
  {
   "cell_type": "code",
   "execution_count": 6,
   "id": "48f3b211-d661-46de-b156-115b44f17980",
   "metadata": {},
   "outputs": [],
   "source": [
    "dist = [\n",
    "    (\"Clapping\", 17),\n",
    "    (\"Telephone\", 10),\n",
    "    (\"Laughter\", 26),\n",
    "    (\"Domestic sounds\", 13),\n",
    "    (\"Walk, footsteps\", 16),\n",
    "    (\"Door, open or close\", 15),\n",
    "    (\"Music\", 19),\n",
    "    (\"Musical instrument\", 6),\n",
    "    (\"Water tap, faucet\", 5),\n",
    "    (\"Bell\", 10),\n",
    "    (\"Knock\", 15) \n",
    "]"
   ]
  },
  {
   "cell_type": "code",
   "execution_count": 10,
   "id": "2f4c2b95-c0ff-417d-af38-021595c53a06",
   "metadata": {},
   "outputs": [
    {
     "name": "stdout",
     "output_type": "stream",
     "text": [
      "152\n",
      "[ 2  2  2  2  2  2  2  2  2  2  2  2  2  2  2  2  2  3  3  3  3  3  3  3\n",
      "  3  3  3  4  4  4  4  4  4  4  4  4  4  4  4  4  4  4  4  4  4  4  4  4\n",
      "  4  4  4  4  4  5  5  5  5  5  5  5  5  5  5  5  5  5  6  6  6  6  6  6\n",
      "  6  6  6  6  6  6  6  6  6  6  7  7  7  7  7  7  7  7  7  7  7  7  7  7\n",
      "  7  8  8  8  8  8  8  8  8  8  8  8  8  8  8  8  8  8  8  8  9  9  9  9\n",
      "  9  9 10 10 10 10 10 11 11 11 11 11 11 11 11 11 11 12 12 12 12 12 12 12\n",
      " 12 12 12 12 12 12 12 12]\n",
      "152\n"
     ]
    }
   ],
   "source": [
    "acc = 0\n",
    "for i in dist :\n",
    "    acc +=i[1]\n",
    "print(acc)\n",
    "dist_class = np.zeros(acc,np.int32)\n",
    "\n",
    "acc = 0\n",
    "idx = 2\n",
    "for i in dist :\n",
    "    dist_class[acc:acc+i[1]] = idx\n",
    "    acc +=i[1]\n",
    "    idx +=1\n",
    "print(dist_class)\n",
    "print(acc)"
   ]
  },
  {
   "cell_type": "code",
   "execution_count": 16,
   "id": "2199c58a-b30b-4bec-81c9-e8181a968547",
   "metadata": {},
   "outputs": [
    {
     "name": "stdout",
     "output_type": "stream",
     "text": [
      "<class 'float'>\n",
      "True\n",
      "<class 'float'>\n",
      "True\n",
      "<class 'int'>\n",
      "False\n",
      "<class 'int'>\n",
      "False\n",
      "<class 'int'>\n",
      "False\n",
      "<class 'float'>\n",
      "True\n",
      "<class 'int'>\n",
      "False\n",
      "<class 'int'>\n",
      "False\n",
      "<class 'float'>\n",
      "True\n"
     ]
    },
    {
     "ename": "IndexError",
     "evalue": "tuple index out of range",
     "output_type": "error",
     "traceback": [
      "\u001b[0;31m---------------------------------------------------------------------------\u001b[0m",
      "\u001b[0;31mIndexError\u001b[0m                                Traceback (most recent call last)",
      "\u001b[0;32m/tmp/ipykernel_1135385/1401629002.py\u001b[0m in \u001b[0;36m<module>\u001b[0;34m\u001b[0m\n\u001b[1;32m     16\u001b[0m \u001b[0;34m\u001b[0m\u001b[0m\n\u001b[1;32m     17\u001b[0m \u001b[0;32mfor\u001b[0m \u001b[0mi\u001b[0m \u001b[0;32min\u001b[0m \u001b[0mconfig\u001b[0m \u001b[0;34m:\u001b[0m\u001b[0;34m\u001b[0m\u001b[0;34m\u001b[0m\u001b[0m\n\u001b[0;32m---> 18\u001b[0;31m     \u001b[0mprint\u001b[0m\u001b[0;34m(\u001b[0m\u001b[0mtype\u001b[0m\u001b[0;34m(\u001b[0m\u001b[0mi\u001b[0m\u001b[0;34m[\u001b[0m\u001b[0;36m1\u001b[0m\u001b[0;34m]\u001b[0m\u001b[0;34m)\u001b[0m\u001b[0;34m)\u001b[0m\u001b[0;34m\u001b[0m\u001b[0;34m\u001b[0m\u001b[0m\n\u001b[0m\u001b[1;32m     19\u001b[0m     \u001b[0mprint\u001b[0m\u001b[0;34m(\u001b[0m\u001b[0mtype\u001b[0m\u001b[0;34m(\u001b[0m\u001b[0mi\u001b[0m\u001b[0;34m[\u001b[0m\u001b[0;36m1\u001b[0m\u001b[0;34m]\u001b[0m\u001b[0;34m)\u001b[0m \u001b[0;32mis\u001b[0m \u001b[0mfloat\u001b[0m\u001b[0;34m)\u001b[0m\u001b[0;34m\u001b[0m\u001b[0;34m\u001b[0m\u001b[0m\n",
      "\u001b[0;31mIndexError\u001b[0m: tuple index out of range"
     ]
    }
   ],
   "source": [
    "config = [\n",
    "    (\"Female speech, woman speaking\", 0.9),\n",
    "    (\"Male speech, man speaking\", 0.9),\n",
    "    (\"Clapping\", 5),\n",
    "    (\"Telephone\", 2),\n",
    "    (\"Laughter\", 10),\n",
    "    (\"Domestic sounds\", 0.1),\n",
    "    (\"Walk, footsteps\", 7),\n",
    "    (\"Door, open or close\", 4),\n",
    "    (\"Music\", 0.9),\n",
    "    (\"Musical instrument\", ),\n",
    "    (\"Water tap, faucet\", 0.1),\n",
    "    (\"Bell\", 0.1),\n",
    "    (\"Knock\", 4)\n",
    "]\n",
    "\n",
    "for i in config :\n",
    "    print(type(i[1]))\n",
    "    print(type(i[1]) is float)"
   ]
  },
  {
   "cell_type": "code",
   "execution_count": null,
   "id": "d47a12ce-3402-4dcf-8f59-83b6b1b96b10",
   "metadata": {},
   "outputs": [],
   "source": []
  }
 ],
 "metadata": {
  "kernelspec": {
   "display_name": "Python 3 (ipykernel)",
   "language": "python",
   "name": "python3"
  },
  "language_info": {
   "codemirror_mode": {
    "name": "ipython",
    "version": 3
   },
   "file_extension": ".py",
   "mimetype": "text/x-python",
   "name": "python",
   "nbconvert_exporter": "python",
   "pygments_lexer": "ipython3",
   "version": "3.9.0"
  }
 },
 "nbformat": 4,
 "nbformat_minor": 5
}
