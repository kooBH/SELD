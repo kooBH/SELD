{
 "cells": [
  {
   "cell_type": "markdown",
   "id": "7eb88f56-4810-4641-96d3-ecc632789185",
   "metadata": {},
   "source": [
    "# Data Generation Using TAU-SRIR"
   ]
  },
  {
   "cell_type": "code",
   "execution_count": 5,
   "id": "0e96b149-912f-4fa4-93b3-cc1db50462b8",
   "metadata": {},
   "outputs": [],
   "source": [
    "import matplotlib.pyplot as plt   "
   ]
  },
  {
   "cell_type": "code",
   "execution_count": 6,
   "id": "ba7e82fc-b271-4bdd-b779-4c4e59f40366",
   "metadata": {},
   "outputs": [],
   "source": [
    "import numpy as np\n",
    "import librosa\n",
    "import pandas as pd\n",
    "import soundfile as sf\n",
    "import scipy"
   ]
  },
  {
   "cell_type": "code",
   "execution_count": 7,
   "id": "42dad5b1-b5b5-4a25-a0bc-d11cd659510a",
   "metadata": {},
   "outputs": [],
   "source": [
    "path_sample_DOA_1   =  \"/home/nas3/DB/DCASE2022/TAU-SRIR_DB_DOA/rirs_01_bomb_shelter_0_0.npy\"\n",
    "path_sample_DOA_2   =  \"/home/nas3/DB/DCASE2022/TAU-SRIR_DB_DOA/rirs_01_bomb_shelter_0_1.npy\"\n",
    "path_sample_RIR_1   =  \"/home/nas3/DB/DCASE2022/TAU-SRIR_DB_split/rirs_01_bomb_shelter_0_0.npy\"\n",
    "path_sample_RIR_2   =  \"/home/nas3/DB/DCASE2022/TAU-SRIR_DB_split/rirs_01_bomb_shelter_0_1.npy\"\n",
    "path_sample_wav_1 = \"/home/data/kbh/DCASE2022/raw/0/FSD50K_dev_104707.wav\"\n",
    "path_sample_wav_2 =  \"/home/data/kbh/DCASE2022/raw/0/FSD50K_dev_107542.wav\""
   ]
  },
  {
   "cell_type": "code",
   "execution_count": 8,
   "id": "54fb5abf-76b4-4f22-a794-75e1bf735491",
   "metadata": {},
   "outputs": [],
   "source": [
    "doa_1 = np.load(path_sample_DOA_1)\n",
    "rir_1 = np.load(path_sample_RIR_1)\n",
    "\n",
    "doa_2 = np.load(path_sample_DOA_2)\n",
    "rir_2 = np.load(path_sample_RIR_2)\n",
    "\n",
    "raw_1,_ = librosa.load(path_sample_wav_1,sr=24000)\n",
    "raw_2,_ = librosa.load(path_sample_wav_2,sr=24000)"
   ]
  },
  {
   "cell_type": "code",
   "execution_count": 9,
   "id": "4ecd56d0-9096-4974-952e-41de7fa4c537",
   "metadata": {},
   "outputs": [
    {
     "name": "stdout",
     "output_type": "stream",
     "text": [
      "(360, 3)\n",
      "(360, 4, 7200)\n",
      "(360, 3)\n",
      "(360, 4, 7200)\n",
      "(53911,)\n"
     ]
    }
   ],
   "source": [
    "print(doa_1.shape)\n",
    "print(rir_1.shape)\n",
    "print(doa_2.shape)\n",
    "print(rir_2.shape)\n",
    "print(raw_1.shape)"
   ]
  },
  {
   "cell_type": "code",
   "execution_count": 10,
   "id": "e7f41e6c-202a-4cac-a094-9f48fa91ec29",
   "metadata": {},
   "outputs": [],
   "source": [
    "import gpuRIR\n",
    "gpuRIR.activateMixedPrecision(False)\n",
    "gpuRIR.activateLUT(True)"
   ]
  },
  {
   "cell_type": "markdown",
   "id": "4633aee7-4f16-4fc8-9795-5f3f2de32b59",
   "metadata": {},
   "source": [
    "## Mixing"
   ]
  },
  {
   "cell_type": "code",
   "execution_count": 11,
   "id": "9c54c00f-cfed-4424-b652-ff7468776c84",
   "metadata": {},
   "outputs": [
    {
     "data": {
      "text/plain": [
       "dtype('float64')"
      ]
     },
     "execution_count": 11,
     "metadata": {},
     "output_type": "execute_result"
    }
   ],
   "source": [
    "rir_1.dtype"
   ]
  },
  {
   "cell_type": "code",
   "execution_count": 12,
   "id": "6157a46e-97f9-4c8d-a6d8-fa00fd385016",
   "metadata": {},
   "outputs": [
    {
     "data": {
      "text/plain": [
       "dtype('float32')"
      ]
     },
     "execution_count": 12,
     "metadata": {},
     "output_type": "execute_result"
    }
   ],
   "source": [
    "raw_1.dtype"
   ]
  },
  {
   "cell_type": "code",
   "execution_count": 13,
   "id": "61625d1b-349d-4b68-9c36-5374273c3882",
   "metadata": {},
   "outputs": [],
   "source": [
    "filtered_signal = gpuRIR.simulateTrajectory(raw_1, rir_1.astype(np.float32))"
   ]
  },
  {
   "cell_type": "code",
   "execution_count": 15,
   "id": "e2baddcd-4078-4ed5-981d-39516dc5ef86",
   "metadata": {},
   "outputs": [
    {
     "name": "stdout",
     "output_type": "stream",
     "text": [
      "(61110, 4)\n"
     ]
    }
   ],
   "source": [
    "print(filtered_signal.shape)"
   ]
  },
  {
   "cell_type": "code",
   "execution_count": 74,
   "id": "68f90ca0-ab9c-4750-8e3e-b3ba1600d76b",
   "metadata": {},
   "outputs": [
    {
     "name": "stdout",
     "output_type": "stream",
     "text": [
      "0.04186130012067224\n",
      "0.04186130012067224\n",
      "0.01987330201154691\n",
      "0.020930357641191222\n",
      "0.017474360731284833\n"
     ]
    }
   ],
   "source": [
    "print(np.max(np.abs(filtered_signal)))\n",
    "print(np.max(np.abs(filtered_signal[:,0])))\n",
    "print(np.max(np.abs(filtered_signal[:,1])))\n",
    "print(np.max(np.abs(filtered_signal[:,2])))\n",
    "print(np.max(np.abs(filtered_signal[:,3])))"
   ]
  },
  {
   "cell_type": "markdown",
   "id": "f083b28d-acd1-4118-8903-672a9fd585e2",
   "metadata": {},
   "source": [
    "## Label"
   ]
  },
  {
   "cell_type": "code",
   "execution_count": 1,
   "id": "59728ed5-9691-47a0-8fda-0f09b3413f4b",
   "metadata": {},
   "outputs": [],
   "source": [
    "setting=[\n",
    "    (\"a\",3),\n",
    "    (\"b\",2.0)]"
   ]
  },
  {
   "cell_type": "code",
   "execution_count": 4,
   "id": "4b4f4ce6-cd0c-4d40-901e-ae26e39d1b09",
   "metadata": {},
   "outputs": [
    {
     "data": {
      "text/plain": [
       "'a'"
      ]
     },
     "execution_count": 4,
     "metadata": {},
     "output_type": "execute_result"
    }
   ],
   "source": [
    "setting[0][0]"
   ]
  },
  {
   "cell_type": "code",
   "execution_count": 22,
   "id": "4b93c2d7-1005-4e6a-a475-24f68b668a65",
   "metadata": {},
   "outputs": [
    {
     "data": {
      "text/plain": [
       "0.7039903197547649"
      ]
     },
     "execution_count": 22,
     "metadata": {},
     "output_type": "execute_result"
    }
   ],
   "source": [
    "np.random.rand()"
   ]
  },
  {
   "cell_type": "code",
   "execution_count": 25,
   "id": "4e6def0e-a035-4571-be6e-90059cc9e1d1",
   "metadata": {},
   "outputs": [],
   "source": [
    "x =np.zeros(4,np.int32)"
   ]
  },
  {
   "cell_type": "code",
   "execution_count": 26,
   "id": "c83c307a-d48a-4818-8e35-58cc1285a9d2",
   "metadata": {},
   "outputs": [
    {
     "name": "stdout",
     "output_type": "stream",
     "text": [
      "0\n",
      "0\n",
      "0\n",
      "0\n"
     ]
    }
   ],
   "source": [
    "for i in x :\n",
    "    print(i)"
   ]
  },
  {
   "cell_type": "code",
   "execution_count": 66,
   "id": "6ae40ce6-5434-47dc-8efb-8bcd6c2bbede",
   "metadata": {},
   "outputs": [
    {
     "data": {
      "text/plain": [
       "2"
      ]
     },
     "execution_count": 66,
     "metadata": {},
     "output_type": "execute_result"
    }
   ],
   "source": [
    "np.random.randint(1,high=3)"
   ]
  },
  {
   "cell_type": "code",
   "execution_count": null,
   "id": "ec07f81e-f43d-4222-abad-83a8d7bfe46e",
   "metadata": {},
   "outputs": [],
   "source": []
  }
 ],
 "metadata": {
  "kernelspec": {
   "display_name": "Python 3 (ipykernel)",
   "language": "python",
   "name": "python3"
  },
  "language_info": {
   "codemirror_mode": {
    "name": "ipython",
    "version": 3
   },
   "file_extension": ".py",
   "mimetype": "text/x-python",
   "name": "python",
   "nbconvert_exporter": "python",
   "pygments_lexer": "ipython3",
   "version": "3.9.0"
  }
 },
 "nbformat": 4,
 "nbformat_minor": 5
}
